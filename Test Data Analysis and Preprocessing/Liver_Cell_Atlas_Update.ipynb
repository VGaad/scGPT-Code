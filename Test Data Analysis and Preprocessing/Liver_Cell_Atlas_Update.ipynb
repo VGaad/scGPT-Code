{
 "cells": [
  {
   "cell_type": "code",
   "execution_count": 1,
   "metadata": {},
   "outputs": [],
   "source": [
    "import scanpy as sc\n",
    "import pandas as pd"
   ]
  },
  {
   "cell_type": "code",
   "execution_count": 2,
   "metadata": {},
   "outputs": [
    {
     "name": "stdout",
     "output_type": "stream",
     "text": [
      "AnnData object with n_obs × n_vars = 167598 × 32738\n",
      "    obs: 'UMAP_1', 'UMAP_2', 'cluster', 'annot', 'sample', 'patient', 'digest', 'typeSample', 'diet'\n",
      "    var: 'gene_ids', 'feature_types'\n"
     ]
    }
   ],
   "source": [
    "adata = sc.read_h5ad('Liver_Cell_Atlas.h5ad')\n",
    "print(adata)"
   ]
  },
  {
   "cell_type": "code",
   "execution_count": 3,
   "metadata": {},
   "outputs": [
    {
     "data": {
      "text/html": [
       "<div>\n",
       "<style scoped>\n",
       "    .dataframe tbody tr th:only-of-type {\n",
       "        vertical-align: middle;\n",
       "    }\n",
       "\n",
       "    .dataframe tbody tr th {\n",
       "        vertical-align: top;\n",
       "    }\n",
       "\n",
       "    .dataframe thead th {\n",
       "        text-align: right;\n",
       "    }\n",
       "</style>\n",
       "<table border=\"1\" class=\"dataframe\">\n",
       "  <thead>\n",
       "    <tr style=\"text-align: right;\">\n",
       "      <th></th>\n",
       "      <th>UMAP_1</th>\n",
       "      <th>UMAP_2</th>\n",
       "      <th>cluster</th>\n",
       "      <th>annot</th>\n",
       "      <th>sample</th>\n",
       "      <th>patient</th>\n",
       "      <th>digest</th>\n",
       "      <th>typeSample</th>\n",
       "      <th>diet</th>\n",
       "    </tr>\n",
       "    <tr>\n",
       "      <th>cell</th>\n",
       "      <th></th>\n",
       "      <th></th>\n",
       "      <th></th>\n",
       "      <th></th>\n",
       "      <th></th>\n",
       "      <th></th>\n",
       "      <th></th>\n",
       "      <th></th>\n",
       "      <th></th>\n",
       "    </tr>\n",
       "  </thead>\n",
       "  <tbody>\n",
       "    <tr>\n",
       "      <th>AAACCTGTCAGGATCT-1</th>\n",
       "      <td>0.738062</td>\n",
       "      <td>-3.097089</td>\n",
       "      <td>34</td>\n",
       "      <td>Mono+mono derived cells</td>\n",
       "      <td>CISE06</td>\n",
       "      <td>H02</td>\n",
       "      <td>exVivo</td>\n",
       "      <td>citeSeq</td>\n",
       "      <td>Lean</td>\n",
       "    </tr>\n",
       "    <tr>\n",
       "      <th>AAACGGGAGCACAGGT-1</th>\n",
       "      <td>0.367818</td>\n",
       "      <td>-3.251462</td>\n",
       "      <td>34</td>\n",
       "      <td>Mono+mono derived cells</td>\n",
       "      <td>CISE06</td>\n",
       "      <td>H02</td>\n",
       "      <td>exVivo</td>\n",
       "      <td>citeSeq</td>\n",
       "      <td>Lean</td>\n",
       "    </tr>\n",
       "    <tr>\n",
       "      <th>AAACGGGAGTGTGGCA-1</th>\n",
       "      <td>-0.728939</td>\n",
       "      <td>-5.994781</td>\n",
       "      <td>14</td>\n",
       "      <td>Mono+mono derived cells</td>\n",
       "      <td>CISE06</td>\n",
       "      <td>H02</td>\n",
       "      <td>exVivo</td>\n",
       "      <td>citeSeq</td>\n",
       "      <td>Lean</td>\n",
       "    </tr>\n",
       "    <tr>\n",
       "      <th>AAACGGGAGTTAGGTA-1</th>\n",
       "      <td>2.814624</td>\n",
       "      <td>-7.131484</td>\n",
       "      <td>7</td>\n",
       "      <td>Mono+mono derived cells</td>\n",
       "      <td>CISE06</td>\n",
       "      <td>H02</td>\n",
       "      <td>exVivo</td>\n",
       "      <td>citeSeq</td>\n",
       "      <td>Lean</td>\n",
       "    </tr>\n",
       "    <tr>\n",
       "      <th>AAACGGGCACCAGATT-1</th>\n",
       "      <td>3.420414</td>\n",
       "      <td>-6.966918</td>\n",
       "      <td>7</td>\n",
       "      <td>Mono+mono derived cells</td>\n",
       "      <td>CISE06</td>\n",
       "      <td>H02</td>\n",
       "      <td>exVivo</td>\n",
       "      <td>citeSeq</td>\n",
       "      <td>Lean</td>\n",
       "    </tr>\n",
       "    <tr>\n",
       "      <th>...</th>\n",
       "      <td>...</td>\n",
       "      <td>...</td>\n",
       "      <td>...</td>\n",
       "      <td>...</td>\n",
       "      <td>...</td>\n",
       "      <td>...</td>\n",
       "      <td>...</td>\n",
       "      <td>...</td>\n",
       "      <td>...</td>\n",
       "    </tr>\n",
       "    <tr>\n",
       "      <th>TTTACCAAGAGAGGTA-41</th>\n",
       "      <td>-3.674058</td>\n",
       "      <td>7.171934</td>\n",
       "      <td>41</td>\n",
       "      <td>Fibroblasts</td>\n",
       "      <td>CS171</td>\n",
       "      <td>H38</td>\n",
       "      <td>exVivo</td>\n",
       "      <td>scRnaSeq</td>\n",
       "      <td>Lean</td>\n",
       "    </tr>\n",
       "    <tr>\n",
       "      <th>TTTACCAGTATCGAAA-41</th>\n",
       "      <td>-4.356690</td>\n",
       "      <td>7.339135</td>\n",
       "      <td>41</td>\n",
       "      <td>Fibroblasts</td>\n",
       "      <td>CS171</td>\n",
       "      <td>H38</td>\n",
       "      <td>exVivo</td>\n",
       "      <td>scRnaSeq</td>\n",
       "      <td>Lean</td>\n",
       "    </tr>\n",
       "    <tr>\n",
       "      <th>TTTCCTCGTGAGGCAT-41</th>\n",
       "      <td>-3.759264</td>\n",
       "      <td>7.485170</td>\n",
       "      <td>41</td>\n",
       "      <td>Fibroblasts</td>\n",
       "      <td>CS171</td>\n",
       "      <td>H38</td>\n",
       "      <td>exVivo</td>\n",
       "      <td>scRnaSeq</td>\n",
       "      <td>Lean</td>\n",
       "    </tr>\n",
       "    <tr>\n",
       "      <th>TTTCGATTCGATAACC-41</th>\n",
       "      <td>-4.757702</td>\n",
       "      <td>6.576497</td>\n",
       "      <td>41</td>\n",
       "      <td>Fibroblasts</td>\n",
       "      <td>CS171</td>\n",
       "      <td>H38</td>\n",
       "      <td>exVivo</td>\n",
       "      <td>scRnaSeq</td>\n",
       "      <td>Lean</td>\n",
       "    </tr>\n",
       "    <tr>\n",
       "      <th>TTTGGAGTCCACTGGG-41</th>\n",
       "      <td>-4.283028</td>\n",
       "      <td>7.481643</td>\n",
       "      <td>41</td>\n",
       "      <td>Fibroblasts</td>\n",
       "      <td>CS171</td>\n",
       "      <td>H38</td>\n",
       "      <td>exVivo</td>\n",
       "      <td>scRnaSeq</td>\n",
       "      <td>Lean</td>\n",
       "    </tr>\n",
       "  </tbody>\n",
       "</table>\n",
       "<p>167598 rows × 9 columns</p>\n",
       "</div>"
      ],
      "text/plain": [
       "                       UMAP_1    UMAP_2  cluster                    annot  \\\n",
       "cell                                                                        \n",
       "AAACCTGTCAGGATCT-1   0.738062 -3.097089       34  Mono+mono derived cells   \n",
       "AAACGGGAGCACAGGT-1   0.367818 -3.251462       34  Mono+mono derived cells   \n",
       "AAACGGGAGTGTGGCA-1  -0.728939 -5.994781       14  Mono+mono derived cells   \n",
       "AAACGGGAGTTAGGTA-1   2.814624 -7.131484        7  Mono+mono derived cells   \n",
       "AAACGGGCACCAGATT-1   3.420414 -6.966918        7  Mono+mono derived cells   \n",
       "...                       ...       ...      ...                      ...   \n",
       "TTTACCAAGAGAGGTA-41 -3.674058  7.171934       41              Fibroblasts   \n",
       "TTTACCAGTATCGAAA-41 -4.356690  7.339135       41              Fibroblasts   \n",
       "TTTCCTCGTGAGGCAT-41 -3.759264  7.485170       41              Fibroblasts   \n",
       "TTTCGATTCGATAACC-41 -4.757702  6.576497       41              Fibroblasts   \n",
       "TTTGGAGTCCACTGGG-41 -4.283028  7.481643       41              Fibroblasts   \n",
       "\n",
       "                     sample patient  digest typeSample  diet  \n",
       "cell                                                          \n",
       "AAACCTGTCAGGATCT-1   CISE06     H02  exVivo    citeSeq  Lean  \n",
       "AAACGGGAGCACAGGT-1   CISE06     H02  exVivo    citeSeq  Lean  \n",
       "AAACGGGAGTGTGGCA-1   CISE06     H02  exVivo    citeSeq  Lean  \n",
       "AAACGGGAGTTAGGTA-1   CISE06     H02  exVivo    citeSeq  Lean  \n",
       "AAACGGGCACCAGATT-1   CISE06     H02  exVivo    citeSeq  Lean  \n",
       "...                     ...     ...     ...        ...   ...  \n",
       "TTTACCAAGAGAGGTA-41   CS171     H38  exVivo   scRnaSeq  Lean  \n",
       "TTTACCAGTATCGAAA-41   CS171     H38  exVivo   scRnaSeq  Lean  \n",
       "TTTCCTCGTGAGGCAT-41   CS171     H38  exVivo   scRnaSeq  Lean  \n",
       "TTTCGATTCGATAACC-41   CS171     H38  exVivo   scRnaSeq  Lean  \n",
       "TTTGGAGTCCACTGGG-41   CS171     H38  exVivo   scRnaSeq  Lean  \n",
       "\n",
       "[167598 rows x 9 columns]"
      ]
     },
     "execution_count": 3,
     "metadata": {},
     "output_type": "execute_result"
    }
   ],
   "source": [
    "adata.obs"
   ]
  },
  {
   "cell_type": "code",
   "execution_count": 4,
   "metadata": {},
   "outputs": [
    {
     "name": "stdout",
     "output_type": "stream",
     "text": [
      "annot\n",
      "T cells                    77355\n",
      "Mono+mono derived cells    29639\n",
      "Circulating NK/NKT         12567\n",
      "Hepatocytes                10996\n",
      "Resident NK                10894\n",
      "Macrophages                 7076\n",
      "Neutrophils                 5340\n",
      "Endothelial cells           2834\n",
      "cDC2s                       2629\n",
      "B cells                     2350\n",
      "Fibroblasts                 1273\n",
      "pDCs                        1216\n",
      "cDC1s                       1180\n",
      "Plasma cells                1125\n",
      "Cholangiocytes               657\n",
      "Basophils                    389\n",
      "Mig.cDCs                      78\n",
      "Name: count, dtype: int64\n"
     ]
    }
   ],
   "source": [
    "annot_values = adata.obs['annot'].astype(str)\n",
    "unique_counts = annot_values.value_counts()\n",
    "print(unique_counts)"
   ]
  },
  {
   "cell_type": "code",
   "execution_count": 5,
   "metadata": {},
   "outputs": [
    {
     "name": "stdout",
     "output_type": "stream",
     "text": [
      "                       UMAP_1    UMAP_2  cluster                    annot  \\\n",
      "cell                                                                        \n",
      "AAACCTGTCAGGATCT-1   0.738062 -3.097089       34  Mono+mono derived cells   \n",
      "AAACGGGAGCACAGGT-1   0.367818 -3.251462       34  Mono+mono derived cells   \n",
      "AAACGGGAGTGTGGCA-1  -0.728939 -5.994781       14  Mono+mono derived cells   \n",
      "AAACGGGAGTTAGGTA-1   2.814624 -7.131484        7  Mono+mono derived cells   \n",
      "AAACGGGCACCAGATT-1   3.420414 -6.966918        7  Mono+mono derived cells   \n",
      "...                       ...       ...      ...                      ...   \n",
      "TTTACCAAGAGAGGTA-41 -3.674058  7.171934       41              Fibroblasts   \n",
      "TTTACCAGTATCGAAA-41 -4.356690  7.339135       41              Fibroblasts   \n",
      "TTTCCTCGTGAGGCAT-41 -3.759264  7.485170       41              Fibroblasts   \n",
      "TTTCGATTCGATAACC-41 -4.757702  6.576497       41              Fibroblasts   \n",
      "TTTGGAGTCCACTGGG-41 -4.283028  7.481643       41              Fibroblasts   \n",
      "\n",
      "                     sample patient  digest typeSample  diet  \n",
      "cell                                                          \n",
      "AAACCTGTCAGGATCT-1   CISE06     H02  exVivo    citeSeq  Lean  \n",
      "AAACGGGAGCACAGGT-1   CISE06     H02  exVivo    citeSeq  Lean  \n",
      "AAACGGGAGTGTGGCA-1   CISE06     H02  exVivo    citeSeq  Lean  \n",
      "AAACGGGAGTTAGGTA-1   CISE06     H02  exVivo    citeSeq  Lean  \n",
      "AAACGGGCACCAGATT-1   CISE06     H02  exVivo    citeSeq  Lean  \n",
      "...                     ...     ...     ...        ...   ...  \n",
      "TTTACCAAGAGAGGTA-41   CS171     H38  exVivo   scRnaSeq  Lean  \n",
      "TTTACCAGTATCGAAA-41   CS171     H38  exVivo   scRnaSeq  Lean  \n",
      "TTTCCTCGTGAGGCAT-41   CS171     H38  exVivo   scRnaSeq  Lean  \n",
      "TTTCGATTCGATAACC-41   CS171     H38  exVivo   scRnaSeq  Lean  \n",
      "TTTGGAGTCCACTGGG-41   CS171     H38  exVivo   scRnaSeq  Lean  \n",
      "\n",
      "[167598 rows x 9 columns]\n"
     ]
    }
   ],
   "source": [
    "rename_map = {\n",
    "    'cDC2s': 'Myeloid',\n",
    "    'Resident NK': 'Nk Cells'\n",
    "}\n",
    "\n",
    "adata.obs['annot'] = adata.obs['annot'].cat.rename_categories(rename_map)\n",
    "\n",
    "print(adata.obs)"
   ]
  },
  {
   "cell_type": "code",
   "execution_count": 6,
   "metadata": {},
   "outputs": [
    {
     "name": "stdout",
     "output_type": "stream",
     "text": [
      "annot\n",
      "T cells                    77355\n",
      "Mono+mono derived cells    29639\n",
      "Circulating NK/NKT         12567\n",
      "Hepatocytes                10996\n",
      "Nk Cells                   10894\n",
      "Macrophages                 7076\n",
      "Neutrophils                 5340\n",
      "Endothelial cells           2834\n",
      "Myeloid                     2629\n",
      "B cells                     2350\n",
      "Fibroblasts                 1273\n",
      "pDCs                        1216\n",
      "cDC1s                       1180\n",
      "Plasma cells                1125\n",
      "Cholangiocytes               657\n",
      "Basophils                    389\n",
      "Mig.cDCs                      78\n",
      "Name: count, dtype: int64\n"
     ]
    }
   ],
   "source": [
    "annot_values = adata.obs['annot'].astype(str)\n",
    "unique_counts = annot_values.value_counts()\n",
    "print(unique_counts)"
   ]
  },
  {
   "cell_type": "code",
   "execution_count": 7,
   "metadata": {},
   "outputs": [
    {
     "name": "stdout",
     "output_type": "stream",
     "text": [
      "annot\n",
      "T cells                    77355\n",
      "Mono+mono derived cells    29639\n",
      "Circulating NK/NKT         12567\n",
      "Hepatocytes                10996\n",
      "Nk Cells                   10894\n",
      "Macrophages                 7076\n",
      "Neutrophils                 5340\n",
      "Myeloid                     3809\n",
      "Endothelial cells           2834\n",
      "B cells                     2350\n",
      "Fibroblasts                 1273\n",
      "pDCs                        1216\n",
      "Plasma cells                1125\n",
      "Cholangiocytes               657\n",
      "Basophils                    389\n",
      "Mig.cDCs                      78\n",
      "Name: count, dtype: int64\n"
     ]
    }
   ],
   "source": [
    "condition = (adata.obs['annot'] == 'cDC1s')\n",
    "adata.obs.loc[condition, 'annot'] = 'Myeloid'\n",
    "\n",
    "annot_values = adata.obs['annot'].astype(str)\n",
    "unique_counts = annot_values.value_counts()\n",
    "print(unique_counts)"
   ]
  },
  {
   "cell_type": "code",
   "execution_count": 8,
   "metadata": {},
   "outputs": [
    {
     "name": "stdout",
     "output_type": "stream",
     "text": [
      "annot\n",
      "T cells                    77355\n",
      "Mono+mono derived cells    29639\n",
      "Circulating NK/NKT         12567\n",
      "Hepatocytes                10996\n",
      "Nk Cells                   10894\n",
      "Macrophages                 7076\n",
      "Neutrophils                 5340\n",
      "Myeloid                     5025\n",
      "Endothelial cells           2834\n",
      "B cells                     2350\n",
      "Fibroblasts                 1273\n",
      "Plasma cells                1125\n",
      "Cholangiocytes               657\n",
      "Basophils                    389\n",
      "Mig.cDCs                      78\n",
      "Name: count, dtype: int64\n"
     ]
    }
   ],
   "source": [
    "condition = (adata.obs['annot'] == 'pDCs')\n",
    "adata.obs.loc[condition, 'annot'] = 'Myeloid'\n",
    "\n",
    "annot_values = adata.obs['annot'].astype(str)\n",
    "unique_counts = annot_values.value_counts()\n",
    "print(unique_counts)"
   ]
  },
  {
   "cell_type": "code",
   "execution_count": 9,
   "metadata": {},
   "outputs": [
    {
     "name": "stdout",
     "output_type": "stream",
     "text": [
      "annot\n",
      "T cells               77355\n",
      "Myeloid               34664\n",
      "Circulating NK/NKT    12567\n",
      "Hepatocytes           10996\n",
      "Nk Cells              10894\n",
      "Macrophages            7076\n",
      "Neutrophils            5340\n",
      "Endothelial cells      2834\n",
      "B cells                2350\n",
      "Fibroblasts            1273\n",
      "Plasma cells           1125\n",
      "Cholangiocytes          657\n",
      "Basophils               389\n",
      "Mig.cDCs                 78\n",
      "Name: count, dtype: int64\n"
     ]
    }
   ],
   "source": [
    "condition = (adata.obs['annot'] == 'Mono+mono derived cells')\n",
    "adata.obs.loc[condition, 'annot'] = 'Myeloid'\n",
    "\n",
    "annot_values = adata.obs['annot'].astype(str)\n",
    "unique_counts = annot_values.value_counts()\n",
    "print(unique_counts)"
   ]
  },
  {
   "cell_type": "code",
   "execution_count": 10,
   "metadata": {},
   "outputs": [
    {
     "name": "stdout",
     "output_type": "stream",
     "text": [
      "annot\n",
      "T cells               77355\n",
      "Myeloid               41740\n",
      "Circulating NK/NKT    12567\n",
      "Hepatocytes           10996\n",
      "Nk Cells              10894\n",
      "Neutrophils            5340\n",
      "Endothelial cells      2834\n",
      "B cells                2350\n",
      "Fibroblasts            1273\n",
      "Plasma cells           1125\n",
      "Cholangiocytes          657\n",
      "Basophils               389\n",
      "Mig.cDCs                 78\n",
      "Name: count, dtype: int64\n"
     ]
    }
   ],
   "source": [
    "condition = (adata.obs['annot'] == 'Macrophages')\n",
    "adata.obs.loc[condition, 'annot'] = 'Myeloid'\n",
    "\n",
    "annot_values = adata.obs['annot'].astype(str)\n",
    "unique_counts = annot_values.value_counts()\n",
    "print(unique_counts)"
   ]
  },
  {
   "cell_type": "code",
   "execution_count": 11,
   "metadata": {},
   "outputs": [
    {
     "name": "stdout",
     "output_type": "stream",
     "text": [
      "annot\n",
      "T cells               77355\n",
      "Myeloid               47080\n",
      "Circulating NK/NKT    12567\n",
      "Hepatocytes           10996\n",
      "Nk Cells              10894\n",
      "Endothelial cells      2834\n",
      "B cells                2350\n",
      "Fibroblasts            1273\n",
      "Plasma cells           1125\n",
      "Cholangiocytes          657\n",
      "Basophils               389\n",
      "Mig.cDCs                 78\n",
      "Name: count, dtype: int64\n"
     ]
    }
   ],
   "source": [
    "condition = (adata.obs['annot'] == 'Neutrophils')\n",
    "adata.obs.loc[condition, 'annot'] = 'Myeloid'\n",
    "\n",
    "annot_values = adata.obs['annot'].astype(str)\n",
    "unique_counts = annot_values.value_counts()\n",
    "print(unique_counts)"
   ]
  },
  {
   "cell_type": "code",
   "execution_count": 12,
   "metadata": {},
   "outputs": [
    {
     "name": "stdout",
     "output_type": "stream",
     "text": [
      "annot\n",
      "T cells               77355\n",
      "Myeloid               47469\n",
      "Circulating NK/NKT    12567\n",
      "Hepatocytes           10996\n",
      "Nk Cells              10894\n",
      "Endothelial cells      2834\n",
      "B cells                2350\n",
      "Fibroblasts            1273\n",
      "Plasma cells           1125\n",
      "Cholangiocytes          657\n",
      "Mig.cDCs                 78\n",
      "Name: count, dtype: int64\n"
     ]
    }
   ],
   "source": [
    "condition = (adata.obs['annot'] == 'Basophils')\n",
    "adata.obs.loc[condition, 'annot'] = 'Myeloid'\n",
    "\n",
    "annot_values = adata.obs['annot'].astype(str)\n",
    "unique_counts = annot_values.value_counts()\n",
    "print(unique_counts)"
   ]
  },
  {
   "cell_type": "code",
   "execution_count": 13,
   "metadata": {},
   "outputs": [
    {
     "name": "stdout",
     "output_type": "stream",
     "text": [
      "annot\n",
      "T cells              77355\n",
      "Myeloid              47469\n",
      "Nk Cells             23461\n",
      "Hepatocytes          10996\n",
      "Endothelial cells     2834\n",
      "B cells               2350\n",
      "Fibroblasts           1273\n",
      "Plasma cells          1125\n",
      "Cholangiocytes         657\n",
      "Mig.cDCs                78\n",
      "Name: count, dtype: int64\n"
     ]
    }
   ],
   "source": [
    "condition = (adata.obs['annot'] == 'Circulating NK/NKT')\n",
    "adata.obs.loc[condition, 'annot'] = 'Nk Cells'\n",
    "\n",
    "annot_values = adata.obs['annot'].astype(str)\n",
    "unique_counts = annot_values.value_counts()\n",
    "print(unique_counts)"
   ]
  },
  {
   "cell_type": "code",
   "execution_count": 14,
   "metadata": {},
   "outputs": [],
   "source": [
    "categories_to_exclude = ['Plasma cells', 'Cholangiocytes', 'Mig.cDCs']\n",
    "adata_filtered = adata[~adata.obs['annot'].isin(categories_to_exclude)].copy()"
   ]
  },
  {
   "cell_type": "code",
   "execution_count": 15,
   "metadata": {},
   "outputs": [
    {
     "name": "stdout",
     "output_type": "stream",
     "text": [
      "annot\n",
      "T cells              77355\n",
      "Myeloid              47469\n",
      "Nk Cells             23461\n",
      "Hepatocytes          10996\n",
      "Endothelial cells     2834\n",
      "B cells               2350\n",
      "Fibroblasts           1273\n",
      "Name: count, dtype: int64\n"
     ]
    }
   ],
   "source": [
    "adata = adata_filtered\n",
    "annot_values = adata.obs['annot'].astype(str)\n",
    "unique_counts = annot_values.value_counts()\n",
    "print(unique_counts)"
   ]
  },
  {
   "cell_type": "code",
   "execution_count": 16,
   "metadata": {},
   "outputs": [],
   "source": [
    "adata.write(\"Validation_dataset.h5ad\")"
   ]
  }
 ],
 "metadata": {
  "kernelspec": {
   "display_name": "Python 3",
   "language": "python",
   "name": "python3"
  },
  "language_info": {
   "codemirror_mode": {
    "name": "ipython",
    "version": 3
   },
   "file_extension": ".py",
   "mimetype": "text/x-python",
   "name": "python",
   "nbconvert_exporter": "python",
   "pygments_lexer": "ipython3",
   "version": "3.8.18"
  }
 },
 "nbformat": 4,
 "nbformat_minor": 2
}
