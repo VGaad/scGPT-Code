{
 "cells": [
  {
   "cell_type": "code",
   "execution_count": 1,
   "metadata": {},
   "outputs": [],
   "source": [
    "import scanpy as sc"
   ]
  },
  {
   "cell_type": "code",
   "execution_count": 2,
   "metadata": {},
   "outputs": [
    {
     "name": "stderr",
     "output_type": "stream",
     "text": [
      "c:\\Users\\Public\\anaconda3\\envs\\scgpt\\lib\\site-packages\\anndata\\compat\\__init__.py:229: FutureWarning: Moving element from .uns['neighbors']['distances'] to .obsp['distances'].\n",
      "\n",
      "This is where adjacency matrices should go now.\n",
      "  warn(\n",
      "c:\\Users\\Public\\anaconda3\\envs\\scgpt\\lib\\site-packages\\anndata\\compat\\__init__.py:229: FutureWarning: Moving element from .uns['neighbors']['connectivities'] to .obsp['connectivities'].\n",
      "\n",
      "This is where adjacency matrices should go now.\n",
      "  warn(\n"
     ]
    },
    {
     "name": "stdout",
     "output_type": "stream",
     "text": [
      "AnnData object with n_obs × n_vars = 73589 × 2608\n",
      "    obs: 'n_genes', 'percent_mito', 'n_counts', 'louvain', 'patient_id', 'patient_tumorsection', 'NormalvsTumor', 'patientno', 'PNC', 'PIC', 'ViralvsNonViral'\n",
      "    var: 'gene_ids', 'n_cells'\n",
      "    uns: 'NormalvsTumor_colors', 'PNC_colors', 'ViralvsNonViral_colors', 'louvain', 'louvain_colors', 'neighbors', 'patientno_colors', 'pca', 'rank_genes_groups'\n",
      "    obsm: 'X_pca', 'X_umap'\n",
      "    varm: 'PCs'\n",
      "    obsp: 'distances', 'connectivities'\n"
     ]
    }
   ],
   "source": [
    "adata = sc.read_h5ad('HCC.h5ad')\n",
    "print(adata)"
   ]
  },
  {
   "cell_type": "code",
   "execution_count": 3,
   "metadata": {},
   "outputs": [
    {
     "name": "stdout",
     "output_type": "stream",
     "text": [
      "[[-0.16845347 -0.03564781 -0.0477442  ... -0.07182272 -0.13408013\n",
      "  -0.05482318]\n",
      " [-0.16741325 -0.03563783 -0.04759853 ... -0.0691553  -0.13420835\n",
      "  -0.05420499]\n",
      " [-0.19438893 -0.04504421 -0.05132338 ... -0.14197227 -0.15936998\n",
      "  -0.07002947]\n",
      " ...\n",
      " [-0.15281229 -0.02069412 -0.04563918 ... -0.02581779 -0.08990724\n",
      "  -0.04586226]\n",
      " [-0.16932128 -0.0246159  -0.04792935 ... -0.06965064 -0.09959187\n",
      "  -0.05558822]\n",
      " [-0.1521068  -0.02064563 -0.04554063 ... -0.02399215 -0.08986428\n",
      "  -0.04544396]]\n"
     ]
    }
   ],
   "source": [
    "print(adata.X)"
   ]
  },
  {
   "cell_type": "code",
   "execution_count": 4,
   "metadata": {},
   "outputs": [
    {
     "data": {
      "text/plain": [
       "73589"
      ]
     },
     "execution_count": 4,
     "metadata": {},
     "output_type": "execute_result"
    }
   ],
   "source": [
    "len(adata.X)"
   ]
  },
  {
   "cell_type": "code",
   "execution_count": 5,
   "metadata": {},
   "outputs": [
    {
     "data": {
      "text/plain": [
       "<anndata._core.raw.Raw at 0x158e58560a0>"
      ]
     },
     "execution_count": 5,
     "metadata": {},
     "output_type": "execute_result"
    }
   ],
   "source": [
    "adata.raw"
   ]
  },
  {
   "cell_type": "code",
   "execution_count": 6,
   "metadata": {},
   "outputs": [
    {
     "name": "stdout",
     "output_type": "stream",
     "text": [
      "Raw AnnData with n_obs × n_vars = 73589 × 19852\n",
      "    var: 'gene_ids', 'n_cells'\n"
     ]
    }
   ],
   "source": [
    "print(adata.raw)"
   ]
  },
  {
   "cell_type": "code",
   "execution_count": 7,
   "metadata": {},
   "outputs": [
    {
     "name": "stdout",
     "output_type": "stream",
     "text": [
      "  (0, 19840)\t1.0986123\n",
      "  (0, 19837)\t0.6931472\n",
      "  (0, 19835)\t1.0986123\n",
      "  (0, 19834)\t1.9459101\n",
      "  (0, 19831)\t0.6931472\n",
      "  (0, 19830)\t2.0794415\n",
      "  (0, 19829)\t1.3862944\n",
      "  (0, 19828)\t0.6931472\n",
      "  (0, 19796)\t0.6931472\n",
      "  (0, 19771)\t0.6931472\n",
      "  (0, 19730)\t0.6931472\n",
      "  (0, 19712)\t0.6931472\n",
      "  (0, 19609)\t0.6931472\n",
      "  (0, 19505)\t0.6931472\n",
      "  (0, 19496)\t0.6931472\n",
      "  (0, 19455)\t1.0986123\n",
      "  (0, 19430)\t0.6931472\n",
      "  (0, 19425)\t1.3862944\n",
      "  (0, 19416)\t0.6931472\n",
      "  (0, 19384)\t0.6931472\n",
      "  (0, 19378)\t1.0986123\n",
      "  (0, 19292)\t0.6931472\n",
      "  (0, 19281)\t1.0986123\n",
      "  (0, 19207)\t0.6931472\n",
      "  (0, 19128)\t0.6931472\n",
      "  :\t:\n",
      "  (73588, 864)\t0.6931472\n",
      "  (73588, 845)\t0.6931472\n",
      "  (73588, 800)\t0.6931472\n",
      "  (73588, 721)\t0.6931472\n",
      "  (73588, 688)\t0.6931472\n",
      "  (73588, 665)\t1.0986123\n",
      "  (73588, 635)\t0.6931472\n",
      "  (73588, 620)\t1.0986123\n",
      "  (73588, 533)\t0.6931472\n",
      "  (73588, 500)\t0.6931472\n",
      "  (73588, 403)\t0.6931472\n",
      "  (73588, 392)\t0.6931472\n",
      "  (73588, 365)\t0.6931472\n",
      "  (73588, 359)\t0.6931472\n",
      "  (73588, 322)\t0.6931472\n",
      "  (73588, 318)\t0.6931472\n",
      "  (73588, 312)\t1.3862944\n",
      "  (73588, 291)\t0.6931472\n",
      "  (73588, 279)\t0.6931472\n",
      "  (73588, 269)\t0.6931472\n",
      "  (73588, 127)\t0.6931472\n",
      "  (73588, 103)\t0.6931472\n",
      "  (73588, 73)\t0.6931472\n",
      "  (73588, 38)\t0.6931472\n",
      "  (73588, 36)\t0.6931472\n"
     ]
    }
   ],
   "source": [
    "adata = adata.raw.to_adata()\n",
    "print(adata.X)"
   ]
  },
  {
   "cell_type": "code",
   "execution_count": 8,
   "metadata": {},
   "outputs": [
    {
     "data": {
      "text/plain": [
       "73589"
      ]
     },
     "execution_count": 8,
     "metadata": {},
     "output_type": "execute_result"
    }
   ],
   "source": [
    "adata.X.shape[0]"
   ]
  },
  {
   "cell_type": "code",
   "execution_count": 9,
   "metadata": {},
   "outputs": [
    {
     "name": "stdout",
     "output_type": "stream",
     "text": [
      "                     n_genes  percent_mito  n_counts louvain  patient_id  \\\n",
      "index                                                                      \n",
      "AAACCTGGTCGGGTCT-1       502      0.021596    1065.0       4           1   \n",
      "AAAGCAAGTTCGAATC-1       414      0.021692     922.0       0           1   \n",
      "AACCATGAGTAATCCC-1      1276      0.033444    3319.0       9           1   \n",
      "AACCGCGAGCTCCTCT-1       788      0.018448    1843.0       4           1   \n",
      "AACCGCGCACATGTGT-1       591      0.047297    1332.0       0           1   \n",
      "...                      ...           ...       ...     ...         ...   \n",
      "TTTGGTTTCCGCATCT-58     2200      0.032277    6940.0       7          58   \n",
      "TTTGGTTTCTTCAACT-58      429      0.004082     735.0       7          58   \n",
      "TTTGTCAAGGATGCGT-58      478      0.000000    1037.0       7          58   \n",
      "TTTGTCATCGAATGCT-58      896      0.004337    2767.0       7          58   \n",
      "TTTGTCATCTGTGCAA-58      508      0.000000     946.0       7          58   \n",
      "\n",
      "                    patient_tumorsection NormalvsTumor patientno PNC PIC  \\\n",
      "index                                                                      \n",
      "AAACCTGGTCGGGTCT-1                  P1_N             N        P1   N   N   \n",
      "AAAGCAAGTTCGAATC-1                  P1_N             N        P1   N   N   \n",
      "AACCATGAGTAATCCC-1                  P1_N             N        P1   N   N   \n",
      "AACCGCGAGCTCCTCT-1                  P1_N             N        P1   N   N   \n",
      "AACCGCGCACATGTGT-1                  P1_N             N        P1   N   N   \n",
      "...                                  ...           ...       ...  ..  ..   \n",
      "TTTGGTTTCCGCATCT-58             P15_T4T5             T       P15   P   P   \n",
      "TTTGGTTTCTTCAACT-58             P15_T4T5             T       P15   P   P   \n",
      "TTTGTCAAGGATGCGT-58             P15_T4T5             T       P15   P   P   \n",
      "TTTGTCATCGAATGCT-58             P15_T4T5             T       P15   P   P   \n",
      "TTTGTCATCTGTGCAA-58             P15_T4T5             T       P15   P   P   \n",
      "\n",
      "                    ViralvsNonViral  \n",
      "index                                \n",
      "AAACCTGGTCGGGTCT-1         Positive  \n",
      "AAAGCAAGTTCGAATC-1         Positive  \n",
      "AACCATGAGTAATCCC-1         Positive  \n",
      "AACCGCGAGCTCCTCT-1         Positive  \n",
      "AACCGCGCACATGTGT-1         Positive  \n",
      "...                             ...  \n",
      "TTTGGTTTCCGCATCT-58        Negative  \n",
      "TTTGGTTTCTTCAACT-58        Negative  \n",
      "TTTGTCAAGGATGCGT-58        Negative  \n",
      "TTTGTCATCGAATGCT-58        Negative  \n",
      "TTTGTCATCTGTGCAA-58        Negative  \n",
      "\n",
      "[73589 rows x 11 columns]\n"
     ]
    }
   ],
   "source": [
    "print(adata.obs)"
   ]
  },
  {
   "cell_type": "code",
   "execution_count": 10,
   "metadata": {},
   "outputs": [
    {
     "data": {
      "text/html": [
       "<div>\n",
       "<style scoped>\n",
       "    .dataframe tbody tr th:only-of-type {\n",
       "        vertical-align: middle;\n",
       "    }\n",
       "\n",
       "    .dataframe tbody tr th {\n",
       "        vertical-align: top;\n",
       "    }\n",
       "\n",
       "    .dataframe thead th {\n",
       "        text-align: right;\n",
       "    }\n",
       "</style>\n",
       "<table border=\"1\" class=\"dataframe\">\n",
       "  <thead>\n",
       "    <tr style=\"text-align: right;\">\n",
       "      <th></th>\n",
       "      <th>n_genes</th>\n",
       "      <th>percent_mito</th>\n",
       "      <th>n_counts</th>\n",
       "      <th>louvain</th>\n",
       "      <th>patient_id</th>\n",
       "      <th>patient_tumorsection</th>\n",
       "      <th>NormalvsTumor</th>\n",
       "      <th>patientno</th>\n",
       "      <th>PNC</th>\n",
       "      <th>PIC</th>\n",
       "      <th>ViralvsNonViral</th>\n",
       "    </tr>\n",
       "    <tr>\n",
       "      <th>index</th>\n",
       "      <th></th>\n",
       "      <th></th>\n",
       "      <th></th>\n",
       "      <th></th>\n",
       "      <th></th>\n",
       "      <th></th>\n",
       "      <th></th>\n",
       "      <th></th>\n",
       "      <th></th>\n",
       "      <th></th>\n",
       "      <th></th>\n",
       "    </tr>\n",
       "  </thead>\n",
       "  <tbody>\n",
       "    <tr>\n",
       "      <th>AAACCTGGTCGGGTCT-1</th>\n",
       "      <td>502</td>\n",
       "      <td>0.021596</td>\n",
       "      <td>1065.0</td>\n",
       "      <td>4</td>\n",
       "      <td>1</td>\n",
       "      <td>P1_N</td>\n",
       "      <td>N</td>\n",
       "      <td>P1</td>\n",
       "      <td>N</td>\n",
       "      <td>N</td>\n",
       "      <td>Positive</td>\n",
       "    </tr>\n",
       "    <tr>\n",
       "      <th>AAAGCAAGTTCGAATC-1</th>\n",
       "      <td>414</td>\n",
       "      <td>0.021692</td>\n",
       "      <td>922.0</td>\n",
       "      <td>0</td>\n",
       "      <td>1</td>\n",
       "      <td>P1_N</td>\n",
       "      <td>N</td>\n",
       "      <td>P1</td>\n",
       "      <td>N</td>\n",
       "      <td>N</td>\n",
       "      <td>Positive</td>\n",
       "    </tr>\n",
       "    <tr>\n",
       "      <th>AACCATGAGTAATCCC-1</th>\n",
       "      <td>1276</td>\n",
       "      <td>0.033444</td>\n",
       "      <td>3319.0</td>\n",
       "      <td>9</td>\n",
       "      <td>1</td>\n",
       "      <td>P1_N</td>\n",
       "      <td>N</td>\n",
       "      <td>P1</td>\n",
       "      <td>N</td>\n",
       "      <td>N</td>\n",
       "      <td>Positive</td>\n",
       "    </tr>\n",
       "    <tr>\n",
       "      <th>AACCGCGAGCTCCTCT-1</th>\n",
       "      <td>788</td>\n",
       "      <td>0.018448</td>\n",
       "      <td>1843.0</td>\n",
       "      <td>4</td>\n",
       "      <td>1</td>\n",
       "      <td>P1_N</td>\n",
       "      <td>N</td>\n",
       "      <td>P1</td>\n",
       "      <td>N</td>\n",
       "      <td>N</td>\n",
       "      <td>Positive</td>\n",
       "    </tr>\n",
       "    <tr>\n",
       "      <th>AACCGCGCACATGTGT-1</th>\n",
       "      <td>591</td>\n",
       "      <td>0.047297</td>\n",
       "      <td>1332.0</td>\n",
       "      <td>0</td>\n",
       "      <td>1</td>\n",
       "      <td>P1_N</td>\n",
       "      <td>N</td>\n",
       "      <td>P1</td>\n",
       "      <td>N</td>\n",
       "      <td>N</td>\n",
       "      <td>Positive</td>\n",
       "    </tr>\n",
       "  </tbody>\n",
       "</table>\n",
       "</div>"
      ],
      "text/plain": [
       "                    n_genes  percent_mito  n_counts louvain  patient_id  \\\n",
       "index                                                                     \n",
       "AAACCTGGTCGGGTCT-1      502      0.021596    1065.0       4           1   \n",
       "AAAGCAAGTTCGAATC-1      414      0.021692     922.0       0           1   \n",
       "AACCATGAGTAATCCC-1     1276      0.033444    3319.0       9           1   \n",
       "AACCGCGAGCTCCTCT-1      788      0.018448    1843.0       4           1   \n",
       "AACCGCGCACATGTGT-1      591      0.047297    1332.0       0           1   \n",
       "\n",
       "                   patient_tumorsection NormalvsTumor patientno PNC PIC  \\\n",
       "index                                                                     \n",
       "AAACCTGGTCGGGTCT-1                 P1_N             N        P1   N   N   \n",
       "AAAGCAAGTTCGAATC-1                 P1_N             N        P1   N   N   \n",
       "AACCATGAGTAATCCC-1                 P1_N             N        P1   N   N   \n",
       "AACCGCGAGCTCCTCT-1                 P1_N             N        P1   N   N   \n",
       "AACCGCGCACATGTGT-1                 P1_N             N        P1   N   N   \n",
       "\n",
       "                   ViralvsNonViral  \n",
       "index                               \n",
       "AAACCTGGTCGGGTCT-1        Positive  \n",
       "AAAGCAAGTTCGAATC-1        Positive  \n",
       "AACCATGAGTAATCCC-1        Positive  \n",
       "AACCGCGAGCTCCTCT-1        Positive  \n",
       "AACCGCGCACATGTGT-1        Positive  "
      ]
     },
     "execution_count": 10,
     "metadata": {},
     "output_type": "execute_result"
    }
   ],
   "source": [
    "adata.obs.head()"
   ]
  },
  {
   "cell_type": "code",
   "execution_count": 11,
   "metadata": {},
   "outputs": [
    {
     "name": "stdout",
     "output_type": "stream",
     "text": [
      "<class 'pandas.core.frame.DataFrame'>\n",
      "Index: 73589 entries, AAACCTGGTCGGGTCT-1 to TTTGTCATCTGTGCAA-58\n",
      "Data columns (total 11 columns):\n",
      " #   Column                Non-Null Count  Dtype   \n",
      "---  ------                --------------  -----   \n",
      " 0   n_genes               73589 non-null  int32   \n",
      " 1   percent_mito          73589 non-null  float32 \n",
      " 2   n_counts              73589 non-null  float32 \n",
      " 3   louvain               73589 non-null  category\n",
      " 4   patient_id            73589 non-null  int64   \n",
      " 5   patient_tumorsection  73589 non-null  category\n",
      " 6   NormalvsTumor         73589 non-null  category\n",
      " 7   patientno             73589 non-null  category\n",
      " 8   PNC                   73589 non-null  category\n",
      " 9   PIC                   73589 non-null  category\n",
      " 10  ViralvsNonViral       73589 non-null  category\n",
      "dtypes: category(7), float32(2), int32(1), int64(1)\n",
      "memory usage: 4.5+ MB\n"
     ]
    }
   ],
   "source": [
    "adata.obs.info()"
   ]
  },
  {
   "cell_type": "code",
   "execution_count": 12,
   "metadata": {},
   "outputs": [
    {
     "data": {
      "text/plain": [
       "['4', '0', '9', '1', '8', ..., '11', '23', '14', '16', '25']\n",
       "Length: 29\n",
       "Categories (29, object): ['0', '1', '2', '3', ..., '25', '26', '27', '28']"
      ]
     },
     "execution_count": 12,
     "metadata": {},
     "output_type": "execute_result"
    }
   ],
   "source": [
    "adata.obs['louvain'].unique()"
   ]
  },
  {
   "cell_type": "code",
   "execution_count": 13,
   "metadata": {},
   "outputs": [
    {
     "data": {
      "text/plain": [
       "Index(['n_genes', 'percent_mito', 'n_counts', 'louvain', 'patient_id',\n",
       "       'patient_tumorsection', 'NormalvsTumor', 'patientno', 'PNC', 'PIC',\n",
       "       'ViralvsNonViral'],\n",
       "      dtype='object')"
      ]
     },
     "execution_count": 13,
     "metadata": {},
     "output_type": "execute_result"
    }
   ],
   "source": [
    "adata.obs.columns"
   ]
  },
  {
   "cell_type": "code",
   "execution_count": 14,
   "metadata": {},
   "outputs": [
    {
     "data": {
      "text/plain": [
       "73589"
      ]
     },
     "execution_count": 14,
     "metadata": {},
     "output_type": "execute_result"
    }
   ],
   "source": [
    "adata.obs.__len__()"
   ]
  },
  {
   "cell_type": "code",
   "execution_count": 15,
   "metadata": {},
   "outputs": [],
   "source": [
    "import pandas as pd"
   ]
  },
  {
   "cell_type": "code",
   "execution_count": 16,
   "metadata": {},
   "outputs": [
    {
     "data": {
      "text/html": [
       "<div>\n",
       "<style scoped>\n",
       "    .dataframe tbody tr th:only-of-type {\n",
       "        vertical-align: middle;\n",
       "    }\n",
       "\n",
       "    .dataframe tbody tr th {\n",
       "        vertical-align: top;\n",
       "    }\n",
       "\n",
       "    .dataframe thead th {\n",
       "        text-align: right;\n",
       "    }\n",
       "</style>\n",
       "<table border=\"1\" class=\"dataframe\">\n",
       "  <thead>\n",
       "    <tr style=\"text-align: right;\">\n",
       "      <th></th>\n",
       "      <th>louvain_merge</th>\n",
       "      <th>Cell Type</th>\n",
       "      <th>Cell Type (Manual Annotation)</th>\n",
       "    </tr>\n",
       "  </thead>\n",
       "  <tbody>\n",
       "    <tr>\n",
       "      <th>0</th>\n",
       "      <td>0</td>\n",
       "      <td>CD4+ Cells</td>\n",
       "      <td>CD4+ Cells 1</td>\n",
       "    </tr>\n",
       "    <tr>\n",
       "      <th>1</th>\n",
       "      <td>1</td>\n",
       "      <td>Nk Cells</td>\n",
       "      <td>Nk Cells 1</td>\n",
       "    </tr>\n",
       "    <tr>\n",
       "      <th>2</th>\n",
       "      <td>2</td>\n",
       "      <td>Endothelial Cells</td>\n",
       "      <td>Endothelial Cells 1</td>\n",
       "    </tr>\n",
       "    <tr>\n",
       "      <th>3</th>\n",
       "      <td>3</td>\n",
       "      <td>CD8+ Cells</td>\n",
       "      <td>CD8+ Cells 1</td>\n",
       "    </tr>\n",
       "    <tr>\n",
       "      <th>4</th>\n",
       "      <td>4</td>\n",
       "      <td>CD8+ Cells</td>\n",
       "      <td>CD8+ Cells 2</td>\n",
       "    </tr>\n",
       "  </tbody>\n",
       "</table>\n",
       "</div>"
      ],
      "text/plain": [
       "   louvain_merge          Cell Type Cell Type (Manual Annotation)\n",
       "0              0         CD4+ Cells                  CD4+ Cells 1\n",
       "1              1           Nk Cells                    Nk Cells 1\n",
       "2              2  Endothelial Cells           Endothelial Cells 1\n",
       "3              3         CD8+ Cells                  CD8+ Cells 1\n",
       "4              4         CD8+ Cells                  CD8+ Cells 2"
      ]
     },
     "execution_count": 16,
     "metadata": {},
     "output_type": "execute_result"
    }
   ],
   "source": [
    "cell_type = pd.read_csv('HCC_Cell_Types.csv')\n",
    "cell_type.head()"
   ]
  },
  {
   "cell_type": "code",
   "execution_count": 17,
   "metadata": {},
   "outputs": [
    {
     "name": "stdout",
     "output_type": "stream",
     "text": [
      "<class 'pandas.core.frame.DataFrame'>\n",
      "RangeIndex: 29 entries, 0 to 28\n",
      "Data columns (total 3 columns):\n",
      " #   Column                         Non-Null Count  Dtype \n",
      "---  ------                         --------------  ----- \n",
      " 0   louvain_merge                  29 non-null     int64 \n",
      " 1   Cell Type                      29 non-null     object\n",
      " 2   Cell Type (Manual Annotation)  29 non-null     object\n",
      "dtypes: int64(1), object(2)\n",
      "memory usage: 824.0+ bytes\n"
     ]
    }
   ],
   "source": [
    "cell_type.info()"
   ]
  },
  {
   "cell_type": "code",
   "execution_count": 18,
   "metadata": {},
   "outputs": [
    {
     "data": {
      "text/plain": [
       "29"
      ]
     },
     "execution_count": 18,
     "metadata": {},
     "output_type": "execute_result"
    }
   ],
   "source": [
    "cell_type['Cell Type (Manual Annotation)'].nunique()"
   ]
  },
  {
   "cell_type": "code",
   "execution_count": 19,
   "metadata": {},
   "outputs": [
    {
     "data": {
      "text/html": [
       "<div>\n",
       "<style scoped>\n",
       "    .dataframe tbody tr th:only-of-type {\n",
       "        vertical-align: middle;\n",
       "    }\n",
       "\n",
       "    .dataframe tbody tr th {\n",
       "        vertical-align: top;\n",
       "    }\n",
       "\n",
       "    .dataframe thead th {\n",
       "        text-align: right;\n",
       "    }\n",
       "</style>\n",
       "<table border=\"1\" class=\"dataframe\">\n",
       "  <thead>\n",
       "    <tr style=\"text-align: right;\">\n",
       "      <th></th>\n",
       "      <th>n_genes</th>\n",
       "      <th>percent_mito</th>\n",
       "      <th>n_counts</th>\n",
       "      <th>louvain</th>\n",
       "      <th>patient_id</th>\n",
       "      <th>patient_tumorsection</th>\n",
       "      <th>NormalvsTumor</th>\n",
       "      <th>patientno</th>\n",
       "      <th>PNC</th>\n",
       "      <th>PIC</th>\n",
       "      <th>ViralvsNonViral</th>\n",
       "      <th>louvain_merge</th>\n",
       "    </tr>\n",
       "    <tr>\n",
       "      <th>index</th>\n",
       "      <th></th>\n",
       "      <th></th>\n",
       "      <th></th>\n",
       "      <th></th>\n",
       "      <th></th>\n",
       "      <th></th>\n",
       "      <th></th>\n",
       "      <th></th>\n",
       "      <th></th>\n",
       "      <th></th>\n",
       "      <th></th>\n",
       "      <th></th>\n",
       "    </tr>\n",
       "  </thead>\n",
       "  <tbody>\n",
       "    <tr>\n",
       "      <th>AAACCTGGTCGGGTCT-1</th>\n",
       "      <td>502</td>\n",
       "      <td>0.021596</td>\n",
       "      <td>1065.0</td>\n",
       "      <td>4</td>\n",
       "      <td>1</td>\n",
       "      <td>P1_N</td>\n",
       "      <td>N</td>\n",
       "      <td>P1</td>\n",
       "      <td>N</td>\n",
       "      <td>N</td>\n",
       "      <td>Positive</td>\n",
       "      <td>4</td>\n",
       "    </tr>\n",
       "    <tr>\n",
       "      <th>AAAGCAAGTTCGAATC-1</th>\n",
       "      <td>414</td>\n",
       "      <td>0.021692</td>\n",
       "      <td>922.0</td>\n",
       "      <td>0</td>\n",
       "      <td>1</td>\n",
       "      <td>P1_N</td>\n",
       "      <td>N</td>\n",
       "      <td>P1</td>\n",
       "      <td>N</td>\n",
       "      <td>N</td>\n",
       "      <td>Positive</td>\n",
       "      <td>0</td>\n",
       "    </tr>\n",
       "    <tr>\n",
       "      <th>AACCATGAGTAATCCC-1</th>\n",
       "      <td>1276</td>\n",
       "      <td>0.033444</td>\n",
       "      <td>3319.0</td>\n",
       "      <td>9</td>\n",
       "      <td>1</td>\n",
       "      <td>P1_N</td>\n",
       "      <td>N</td>\n",
       "      <td>P1</td>\n",
       "      <td>N</td>\n",
       "      <td>N</td>\n",
       "      <td>Positive</td>\n",
       "      <td>9</td>\n",
       "    </tr>\n",
       "    <tr>\n",
       "      <th>AACCGCGAGCTCCTCT-1</th>\n",
       "      <td>788</td>\n",
       "      <td>0.018448</td>\n",
       "      <td>1843.0</td>\n",
       "      <td>4</td>\n",
       "      <td>1</td>\n",
       "      <td>P1_N</td>\n",
       "      <td>N</td>\n",
       "      <td>P1</td>\n",
       "      <td>N</td>\n",
       "      <td>N</td>\n",
       "      <td>Positive</td>\n",
       "      <td>4</td>\n",
       "    </tr>\n",
       "    <tr>\n",
       "      <th>AACCGCGCACATGTGT-1</th>\n",
       "      <td>591</td>\n",
       "      <td>0.047297</td>\n",
       "      <td>1332.0</td>\n",
       "      <td>0</td>\n",
       "      <td>1</td>\n",
       "      <td>P1_N</td>\n",
       "      <td>N</td>\n",
       "      <td>P1</td>\n",
       "      <td>N</td>\n",
       "      <td>N</td>\n",
       "      <td>Positive</td>\n",
       "      <td>0</td>\n",
       "    </tr>\n",
       "  </tbody>\n",
       "</table>\n",
       "</div>"
      ],
      "text/plain": [
       "                    n_genes  percent_mito  n_counts louvain  patient_id  \\\n",
       "index                                                                     \n",
       "AAACCTGGTCGGGTCT-1      502      0.021596    1065.0       4           1   \n",
       "AAAGCAAGTTCGAATC-1      414      0.021692     922.0       0           1   \n",
       "AACCATGAGTAATCCC-1     1276      0.033444    3319.0       9           1   \n",
       "AACCGCGAGCTCCTCT-1      788      0.018448    1843.0       4           1   \n",
       "AACCGCGCACATGTGT-1      591      0.047297    1332.0       0           1   \n",
       "\n",
       "                   patient_tumorsection NormalvsTumor patientno PNC PIC  \\\n",
       "index                                                                     \n",
       "AAACCTGGTCGGGTCT-1                 P1_N             N        P1   N   N   \n",
       "AAAGCAAGTTCGAATC-1                 P1_N             N        P1   N   N   \n",
       "AACCATGAGTAATCCC-1                 P1_N             N        P1   N   N   \n",
       "AACCGCGAGCTCCTCT-1                 P1_N             N        P1   N   N   \n",
       "AACCGCGCACATGTGT-1                 P1_N             N        P1   N   N   \n",
       "\n",
       "                   ViralvsNonViral louvain_merge  \n",
       "index                                             \n",
       "AAACCTGGTCGGGTCT-1        Positive             4  \n",
       "AAAGCAAGTTCGAATC-1        Positive             0  \n",
       "AACCATGAGTAATCCC-1        Positive             9  \n",
       "AACCGCGAGCTCCTCT-1        Positive             4  \n",
       "AACCGCGCACATGTGT-1        Positive             0  "
      ]
     },
     "execution_count": 19,
     "metadata": {},
     "output_type": "execute_result"
    }
   ],
   "source": [
    "adata.obs['louvain_merge'] = adata.obs['louvain']\n",
    "adata.obs.head()"
   ]
  },
  {
   "cell_type": "code",
   "execution_count": 20,
   "metadata": {},
   "outputs": [],
   "source": [
    "adata.obs['louvain_merge'] = adata.obs['louvain_merge'].astype(int)"
   ]
  },
  {
   "cell_type": "code",
   "execution_count": 21,
   "metadata": {},
   "outputs": [
    {
     "data": {
      "text/html": [
       "<div>\n",
       "<style scoped>\n",
       "    .dataframe tbody tr th:only-of-type {\n",
       "        vertical-align: middle;\n",
       "    }\n",
       "\n",
       "    .dataframe tbody tr th {\n",
       "        vertical-align: top;\n",
       "    }\n",
       "\n",
       "    .dataframe thead th {\n",
       "        text-align: right;\n",
       "    }\n",
       "</style>\n",
       "<table border=\"1\" class=\"dataframe\">\n",
       "  <thead>\n",
       "    <tr style=\"text-align: right;\">\n",
       "      <th></th>\n",
       "      <th>n_genes</th>\n",
       "      <th>percent_mito</th>\n",
       "      <th>n_counts</th>\n",
       "      <th>louvain</th>\n",
       "      <th>patient_id</th>\n",
       "      <th>patient_tumorsection</th>\n",
       "      <th>NormalvsTumor</th>\n",
       "      <th>patientno</th>\n",
       "      <th>PNC</th>\n",
       "      <th>PIC</th>\n",
       "      <th>ViralvsNonViral</th>\n",
       "      <th>louvain_merge</th>\n",
       "      <th>Cell Type</th>\n",
       "      <th>Cell Type (Manual Annotation)</th>\n",
       "    </tr>\n",
       "  </thead>\n",
       "  <tbody>\n",
       "    <tr>\n",
       "      <th>0</th>\n",
       "      <td>502</td>\n",
       "      <td>0.021596</td>\n",
       "      <td>1065.0</td>\n",
       "      <td>4</td>\n",
       "      <td>1</td>\n",
       "      <td>P1_N</td>\n",
       "      <td>N</td>\n",
       "      <td>P1</td>\n",
       "      <td>N</td>\n",
       "      <td>N</td>\n",
       "      <td>Positive</td>\n",
       "      <td>4</td>\n",
       "      <td>CD8+ Cells</td>\n",
       "      <td>CD8+ Cells 2</td>\n",
       "    </tr>\n",
       "    <tr>\n",
       "      <th>1</th>\n",
       "      <td>414</td>\n",
       "      <td>0.021692</td>\n",
       "      <td>922.0</td>\n",
       "      <td>0</td>\n",
       "      <td>1</td>\n",
       "      <td>P1_N</td>\n",
       "      <td>N</td>\n",
       "      <td>P1</td>\n",
       "      <td>N</td>\n",
       "      <td>N</td>\n",
       "      <td>Positive</td>\n",
       "      <td>0</td>\n",
       "      <td>CD4+ Cells</td>\n",
       "      <td>CD4+ Cells 1</td>\n",
       "    </tr>\n",
       "    <tr>\n",
       "      <th>2</th>\n",
       "      <td>1276</td>\n",
       "      <td>0.033444</td>\n",
       "      <td>3319.0</td>\n",
       "      <td>9</td>\n",
       "      <td>1</td>\n",
       "      <td>P1_N</td>\n",
       "      <td>N</td>\n",
       "      <td>P1</td>\n",
       "      <td>N</td>\n",
       "      <td>N</td>\n",
       "      <td>Positive</td>\n",
       "      <td>9</td>\n",
       "      <td>Nk Cells</td>\n",
       "      <td>Nk Cells 2</td>\n",
       "    </tr>\n",
       "    <tr>\n",
       "      <th>3</th>\n",
       "      <td>788</td>\n",
       "      <td>0.018448</td>\n",
       "      <td>1843.0</td>\n",
       "      <td>4</td>\n",
       "      <td>1</td>\n",
       "      <td>P1_N</td>\n",
       "      <td>N</td>\n",
       "      <td>P1</td>\n",
       "      <td>N</td>\n",
       "      <td>N</td>\n",
       "      <td>Positive</td>\n",
       "      <td>4</td>\n",
       "      <td>CD8+ Cells</td>\n",
       "      <td>CD8+ Cells 2</td>\n",
       "    </tr>\n",
       "    <tr>\n",
       "      <th>4</th>\n",
       "      <td>591</td>\n",
       "      <td>0.047297</td>\n",
       "      <td>1332.0</td>\n",
       "      <td>0</td>\n",
       "      <td>1</td>\n",
       "      <td>P1_N</td>\n",
       "      <td>N</td>\n",
       "      <td>P1</td>\n",
       "      <td>N</td>\n",
       "      <td>N</td>\n",
       "      <td>Positive</td>\n",
       "      <td>0</td>\n",
       "      <td>CD4+ Cells</td>\n",
       "      <td>CD4+ Cells 1</td>\n",
       "    </tr>\n",
       "  </tbody>\n",
       "</table>\n",
       "</div>"
      ],
      "text/plain": [
       "   n_genes  percent_mito  n_counts louvain  patient_id patient_tumorsection  \\\n",
       "0      502      0.021596    1065.0       4           1                 P1_N   \n",
       "1      414      0.021692     922.0       0           1                 P1_N   \n",
       "2     1276      0.033444    3319.0       9           1                 P1_N   \n",
       "3      788      0.018448    1843.0       4           1                 P1_N   \n",
       "4      591      0.047297    1332.0       0           1                 P1_N   \n",
       "\n",
       "  NormalvsTumor patientno PNC PIC ViralvsNonViral  louvain_merge   Cell Type  \\\n",
       "0             N        P1   N   N        Positive              4  CD8+ Cells   \n",
       "1             N        P1   N   N        Positive              0  CD4+ Cells   \n",
       "2             N        P1   N   N        Positive              9    Nk Cells   \n",
       "3             N        P1   N   N        Positive              4  CD8+ Cells   \n",
       "4             N        P1   N   N        Positive              0  CD4+ Cells   \n",
       "\n",
       "  Cell Type (Manual Annotation)  \n",
       "0                  CD8+ Cells 2  \n",
       "1                  CD4+ Cells 1  \n",
       "2                    Nk Cells 2  \n",
       "3                  CD8+ Cells 2  \n",
       "4                  CD4+ Cells 1  "
      ]
     },
     "execution_count": 21,
     "metadata": {},
     "output_type": "execute_result"
    }
   ],
   "source": [
    "adata.obs = pd.merge(adata.obs, cell_type, how='left', on='louvain_merge')\n",
    "adata.obs.head()"
   ]
  },
  {
   "cell_type": "code",
   "execution_count": 22,
   "metadata": {},
   "outputs": [
    {
     "data": {
      "text/plain": [
       "11"
      ]
     },
     "execution_count": 22,
     "metadata": {},
     "output_type": "execute_result"
    }
   ],
   "source": [
    "adata.obs['Cell Type'].nunique()"
   ]
  },
  {
   "cell_type": "code",
   "execution_count": 23,
   "metadata": {},
   "outputs": [
    {
     "name": "stdout",
     "output_type": "stream",
     "text": [
      "               gene_ids  n_cells\n",
      "index                           \n",
      "RP11-34P13.7          0       59\n",
      "FO538757.2            0     5074\n",
      "AP006222.2            0     1970\n",
      "RP4-669L17.10         0      220\n",
      "RP11-206L10.9         0     1188\n",
      "...                 ...      ...\n",
      "AC007325.4            0     1528\n",
      "AL354822.1            0      679\n",
      "AC004556.1            0       88\n",
      "AC233755.2            0       36\n",
      "AC240274.1            0      602\n",
      "\n",
      "[19852 rows x 2 columns]\n"
     ]
    }
   ],
   "source": [
    "print(adata.var)"
   ]
  },
  {
   "cell_type": "code",
   "execution_count": 24,
   "metadata": {},
   "outputs": [
    {
     "data": {
      "text/html": [
       "<div>\n",
       "<style scoped>\n",
       "    .dataframe tbody tr th:only-of-type {\n",
       "        vertical-align: middle;\n",
       "    }\n",
       "\n",
       "    .dataframe tbody tr th {\n",
       "        vertical-align: top;\n",
       "    }\n",
       "\n",
       "    .dataframe thead th {\n",
       "        text-align: right;\n",
       "    }\n",
       "</style>\n",
       "<table border=\"1\" class=\"dataframe\">\n",
       "  <thead>\n",
       "    <tr style=\"text-align: right;\">\n",
       "      <th></th>\n",
       "      <th>gene_ids</th>\n",
       "      <th>n_cells</th>\n",
       "    </tr>\n",
       "    <tr>\n",
       "      <th>index</th>\n",
       "      <th></th>\n",
       "      <th></th>\n",
       "    </tr>\n",
       "  </thead>\n",
       "  <tbody>\n",
       "    <tr>\n",
       "      <th>RP11-34P13.7</th>\n",
       "      <td>0</td>\n",
       "      <td>59</td>\n",
       "    </tr>\n",
       "    <tr>\n",
       "      <th>FO538757.2</th>\n",
       "      <td>0</td>\n",
       "      <td>5074</td>\n",
       "    </tr>\n",
       "    <tr>\n",
       "      <th>AP006222.2</th>\n",
       "      <td>0</td>\n",
       "      <td>1970</td>\n",
       "    </tr>\n",
       "    <tr>\n",
       "      <th>RP4-669L17.10</th>\n",
       "      <td>0</td>\n",
       "      <td>220</td>\n",
       "    </tr>\n",
       "    <tr>\n",
       "      <th>RP11-206L10.9</th>\n",
       "      <td>0</td>\n",
       "      <td>1188</td>\n",
       "    </tr>\n",
       "  </tbody>\n",
       "</table>\n",
       "</div>"
      ],
      "text/plain": [
       "               gene_ids  n_cells\n",
       "index                           \n",
       "RP11-34P13.7          0       59\n",
       "FO538757.2            0     5074\n",
       "AP006222.2            0     1970\n",
       "RP4-669L17.10         0      220\n",
       "RP11-206L10.9         0     1188"
      ]
     },
     "execution_count": 24,
     "metadata": {},
     "output_type": "execute_result"
    }
   ],
   "source": [
    "adata.var.head()"
   ]
  },
  {
   "cell_type": "code",
   "execution_count": 25,
   "metadata": {},
   "outputs": [
    {
     "data": {
      "text/html": [
       "<div>\n",
       "<style scoped>\n",
       "    .dataframe tbody tr th:only-of-type {\n",
       "        vertical-align: middle;\n",
       "    }\n",
       "\n",
       "    .dataframe tbody tr th {\n",
       "        vertical-align: top;\n",
       "    }\n",
       "\n",
       "    .dataframe thead th {\n",
       "        text-align: right;\n",
       "    }\n",
       "</style>\n",
       "<table border=\"1\" class=\"dataframe\">\n",
       "  <thead>\n",
       "    <tr style=\"text-align: right;\">\n",
       "      <th></th>\n",
       "      <th>gene_ids</th>\n",
       "      <th>n_cells</th>\n",
       "      <th>gene_name</th>\n",
       "    </tr>\n",
       "    <tr>\n",
       "      <th>index</th>\n",
       "      <th></th>\n",
       "      <th></th>\n",
       "      <th></th>\n",
       "    </tr>\n",
       "  </thead>\n",
       "  <tbody>\n",
       "    <tr>\n",
       "      <th>RP11-34P13.7</th>\n",
       "      <td>0</td>\n",
       "      <td>59</td>\n",
       "      <td>RP11-34P13.7</td>\n",
       "    </tr>\n",
       "    <tr>\n",
       "      <th>FO538757.2</th>\n",
       "      <td>0</td>\n",
       "      <td>5074</td>\n",
       "      <td>FO538757.2</td>\n",
       "    </tr>\n",
       "    <tr>\n",
       "      <th>AP006222.2</th>\n",
       "      <td>0</td>\n",
       "      <td>1970</td>\n",
       "      <td>AP006222.2</td>\n",
       "    </tr>\n",
       "    <tr>\n",
       "      <th>RP4-669L17.10</th>\n",
       "      <td>0</td>\n",
       "      <td>220</td>\n",
       "      <td>RP4-669L17.10</td>\n",
       "    </tr>\n",
       "    <tr>\n",
       "      <th>RP11-206L10.9</th>\n",
       "      <td>0</td>\n",
       "      <td>1188</td>\n",
       "      <td>RP11-206L10.9</td>\n",
       "    </tr>\n",
       "  </tbody>\n",
       "</table>\n",
       "</div>"
      ],
      "text/plain": [
       "               gene_ids  n_cells      gene_name\n",
       "index                                          \n",
       "RP11-34P13.7          0       59   RP11-34P13.7\n",
       "FO538757.2            0     5074     FO538757.2\n",
       "AP006222.2            0     1970     AP006222.2\n",
       "RP4-669L17.10         0      220  RP4-669L17.10\n",
       "RP11-206L10.9         0     1188  RP11-206L10.9"
      ]
     },
     "execution_count": 25,
     "metadata": {},
     "output_type": "execute_result"
    }
   ],
   "source": [
    "adata.var['gene_name'] = adata.var.index\n",
    "adata.var.head()"
   ]
  },
  {
   "cell_type": "code",
   "execution_count": 26,
   "metadata": {},
   "outputs": [
    {
     "data": {
      "text/plain": [
       "Index(['gene_ids', 'n_cells', 'gene_name'], dtype='object')"
      ]
     },
     "execution_count": 26,
     "metadata": {},
     "output_type": "execute_result"
    }
   ],
   "source": [
    "adata.var.columns"
   ]
  },
  {
   "cell_type": "code",
   "execution_count": 27,
   "metadata": {},
   "outputs": [
    {
     "name": "stdout",
     "output_type": "stream",
     "text": [
      "AxisArrays with keys: X_pca, X_umap\n"
     ]
    }
   ],
   "source": [
    "print(adata.obsm)"
   ]
  },
  {
   "cell_type": "code",
   "execution_count": 28,
   "metadata": {},
   "outputs": [
    {
     "name": "stdout",
     "output_type": "stream",
     "text": [
      "PairwiseArrays with keys: distances, connectivities\n"
     ]
    }
   ],
   "source": [
    "print(adata.obsp)"
   ]
  },
  {
   "cell_type": "code",
   "execution_count": 30,
   "metadata": {},
   "outputs": [
    {
     "name": "stdout",
     "output_type": "stream",
     "text": [
      "AxisArrays with keys: \n"
     ]
    }
   ],
   "source": [
    "print(adata.varm)"
   ]
  },
  {
   "cell_type": "code",
   "execution_count": 31,
   "metadata": {},
   "outputs": [
    {
     "name": "stdout",
     "output_type": "stream",
     "text": [
      "PairwiseArrays with keys: \n"
     ]
    }
   ],
   "source": [
    "print(adata.varp)"
   ]
  },
  {
   "cell_type": "code",
   "execution_count": 32,
   "metadata": {},
   "outputs": [],
   "source": [
    "sc.write('HCC_Updated(Manual_Annotation).h5ad', adata)"
   ]
  }
 ],
 "metadata": {
  "kernelspec": {
   "display_name": "Python 3",
   "language": "python",
   "name": "python3"
  },
  "language_info": {
   "codemirror_mode": {
    "name": "ipython",
    "version": 3
   },
   "file_extension": ".py",
   "mimetype": "text/x-python",
   "name": "python",
   "nbconvert_exporter": "python",
   "pygments_lexer": "ipython3",
   "version": "3.8.18"
  }
 },
 "nbformat": 4,
 "nbformat_minor": 2
}
