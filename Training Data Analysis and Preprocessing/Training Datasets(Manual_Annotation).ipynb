{
 "cells": [
  {
   "cell_type": "code",
   "execution_count": 1,
   "metadata": {},
   "outputs": [],
   "source": [
    "import pandas as pd\n",
    "import scanpy as sc\n",
    "import numpy as np"
   ]
  },
  {
   "cell_type": "code",
   "execution_count": 2,
   "metadata": {},
   "outputs": [
    {
     "name": "stderr",
     "output_type": "stream",
     "text": [
      "c:\\Users\\Public\\anaconda3\\envs\\scgpt\\lib\\site-packages\\anndata\\_core\\anndata.py:121: ImplicitModificationWarning: Transforming to str index.\n",
      "  warnings.warn(\"Transforming to str index.\", ImplicitModificationWarning)\n"
     ]
    },
    {
     "data": {
      "text/plain": [
       "AnnData object with n_obs × n_vars = 73589 × 19852\n",
       "    obs: 'n_genes', 'percent_mito', 'n_counts', 'louvain', 'patient_id', 'patient_tumorsection', 'NormalvsTumor', 'patientno', 'PNC', 'PIC', 'ViralvsNonViral', 'louvain_merge', 'Cell Type', 'Cell Type (Manual Annotation)'\n",
       "    var: 'gene_ids', 'n_cells', 'gene_name'\n",
       "    uns: 'NormalvsTumor_colors', 'PNC_colors', 'ViralvsNonViral_colors', 'louvain', 'louvain_colors', 'neighbors', 'patientno_colors', 'pca', 'rank_genes_groups'\n",
       "    obsm: 'X_pca', 'X_umap'\n",
       "    obsp: 'connectivities', 'distances'"
      ]
     },
     "execution_count": 2,
     "metadata": {},
     "output_type": "execute_result"
    }
   ],
   "source": [
    "andata = sc.read_h5ad('HCC_Updated(Manual_Annotation).h5ad')\n",
    "andata"
   ]
  },
  {
   "cell_type": "code",
   "execution_count": 3,
   "metadata": {},
   "outputs": [
    {
     "data": {
      "text/plain": [
       "73589"
      ]
     },
     "execution_count": 3,
     "metadata": {},
     "output_type": "execute_result"
    }
   ],
   "source": [
    "andata.obs.__len__()"
   ]
  },
  {
   "cell_type": "code",
   "execution_count": 4,
   "metadata": {},
   "outputs": [
    {
     "data": {
      "text/plain": [
       "19852"
      ]
     },
     "execution_count": 4,
     "metadata": {},
     "output_type": "execute_result"
    }
   ],
   "source": [
    "len(andata.var['gene_name'].unique())"
   ]
  },
  {
   "cell_type": "code",
   "execution_count": 5,
   "metadata": {},
   "outputs": [
    {
     "data": {
      "text/plain": [
       "1907"
      ]
     },
     "execution_count": 5,
     "metadata": {},
     "output_type": "execute_result"
    }
   ],
   "source": [
    "sc.pp.highly_variable_genes(andata, min_mean=0.0125, max_mean=3, min_disp=0.5)\n",
    "andata = andata[:, andata.var.highly_variable]\n",
    "len(andata.var['gene_name'].unique())"
   ]
  },
  {
   "cell_type": "markdown",
   "metadata": {},
   "source": [
    "*Random Split (80% Train, 20% Test)*"
   ]
  },
  {
   "cell_type": "code",
   "execution_count": 6,
   "metadata": {},
   "outputs": [],
   "source": [
    "rng = np.random.RandomState(0)\n",
    "from sklearn.model_selection import train_test_split\n",
    "\n",
    "HCC_random_train, HCC_random_test = train_test_split( andata, test_size=0.20, random_state=rng ) "
   ]
  },
  {
   "cell_type": "code",
   "execution_count": 7,
   "metadata": {},
   "outputs": [
    {
     "name": "stdout",
     "output_type": "stream",
     "text": [
      "No of samples in training set: 58871\n",
      "No of samples in test set: 14718\n"
     ]
    }
   ],
   "source": [
    "print( \"No of samples in training set: %s\" % len(HCC_random_train) )\n",
    "print( \"No of samples in test set: %s\" % len(HCC_random_test) )"
   ]
  },
  {
   "cell_type": "code",
   "execution_count": 8,
   "metadata": {},
   "outputs": [
    {
     "name": "stderr",
     "output_type": "stream",
     "text": [
      "C:\\Users\\Vaishnavi Gaad\\AppData\\Local\\Temp\\ipykernel_37972\\4061572555.py:1: ImplicitModificationWarning: Trying to modify attribute `.obs` of view, initializing view as actual.\n",
      "  HCC_random_train.obs['str_batch'] = 0\n"
     ]
    },
    {
     "data": {
      "text/html": [
       "<div>\n",
       "<style scoped>\n",
       "    .dataframe tbody tr th:only-of-type {\n",
       "        vertical-align: middle;\n",
       "    }\n",
       "\n",
       "    .dataframe tbody tr th {\n",
       "        vertical-align: top;\n",
       "    }\n",
       "\n",
       "    .dataframe thead th {\n",
       "        text-align: right;\n",
       "    }\n",
       "</style>\n",
       "<table border=\"1\" class=\"dataframe\">\n",
       "  <thead>\n",
       "    <tr style=\"text-align: right;\">\n",
       "      <th></th>\n",
       "      <th>n_genes</th>\n",
       "      <th>percent_mito</th>\n",
       "      <th>n_counts</th>\n",
       "      <th>louvain</th>\n",
       "      <th>patient_id</th>\n",
       "      <th>patient_tumorsection</th>\n",
       "      <th>NormalvsTumor</th>\n",
       "      <th>patientno</th>\n",
       "      <th>PNC</th>\n",
       "      <th>PIC</th>\n",
       "      <th>ViralvsNonViral</th>\n",
       "      <th>louvain_merge</th>\n",
       "      <th>Cell Type</th>\n",
       "      <th>Cell Type (Manual Annotation)</th>\n",
       "      <th>str_batch</th>\n",
       "    </tr>\n",
       "  </thead>\n",
       "  <tbody>\n",
       "    <tr>\n",
       "      <th>16548</th>\n",
       "      <td>505</td>\n",
       "      <td>0.022158</td>\n",
       "      <td>1038.0</td>\n",
       "      <td>0</td>\n",
       "      <td>16</td>\n",
       "      <td>P3_T5</td>\n",
       "      <td>T</td>\n",
       "      <td>P3</td>\n",
       "      <td>P</td>\n",
       "      <td>P</td>\n",
       "      <td>Negative</td>\n",
       "      <td>0</td>\n",
       "      <td>CD4+ Cells</td>\n",
       "      <td>CD4+ Cells 1</td>\n",
       "      <td>0</td>\n",
       "    </tr>\n",
       "    <tr>\n",
       "      <th>18705</th>\n",
       "      <td>364</td>\n",
       "      <td>0.017391</td>\n",
       "      <td>920.0</td>\n",
       "      <td>4</td>\n",
       "      <td>17</td>\n",
       "      <td>P4_N</td>\n",
       "      <td>N</td>\n",
       "      <td>P4</td>\n",
       "      <td>N</td>\n",
       "      <td>N</td>\n",
       "      <td>Positive</td>\n",
       "      <td>4</td>\n",
       "      <td>CD8+ Cells</td>\n",
       "      <td>CD8+ Cells 2</td>\n",
       "      <td>0</td>\n",
       "    </tr>\n",
       "    <tr>\n",
       "      <th>37697</th>\n",
       "      <td>748</td>\n",
       "      <td>0.000480</td>\n",
       "      <td>2085.0</td>\n",
       "      <td>14</td>\n",
       "      <td>28</td>\n",
       "      <td>P7_T1</td>\n",
       "      <td>T</td>\n",
       "      <td>P7</td>\n",
       "      <td>P</td>\n",
       "      <td>P</td>\n",
       "      <td>Positive</td>\n",
       "      <td>14</td>\n",
       "      <td>Hepatocytes</td>\n",
       "      <td>Hepatocytes 3</td>\n",
       "      <td>0</td>\n",
       "    </tr>\n",
       "    <tr>\n",
       "      <th>40241</th>\n",
       "      <td>548</td>\n",
       "      <td>0.018234</td>\n",
       "      <td>1042.0</td>\n",
       "      <td>1</td>\n",
       "      <td>29</td>\n",
       "      <td>P7_T2</td>\n",
       "      <td>T</td>\n",
       "      <td>P7</td>\n",
       "      <td>P</td>\n",
       "      <td>P</td>\n",
       "      <td>Positive</td>\n",
       "      <td>1</td>\n",
       "      <td>Nk Cells</td>\n",
       "      <td>Nk Cells 1</td>\n",
       "      <td>0</td>\n",
       "    </tr>\n",
       "    <tr>\n",
       "      <th>59847</th>\n",
       "      <td>351</td>\n",
       "      <td>0.040678</td>\n",
       "      <td>590.0</td>\n",
       "      <td>1</td>\n",
       "      <td>47</td>\n",
       "      <td>P13_N</td>\n",
       "      <td>N</td>\n",
       "      <td>P13</td>\n",
       "      <td>N</td>\n",
       "      <td>N</td>\n",
       "      <td>Negative</td>\n",
       "      <td>1</td>\n",
       "      <td>Nk Cells</td>\n",
       "      <td>Nk Cells 1</td>\n",
       "      <td>0</td>\n",
       "    </tr>\n",
       "  </tbody>\n",
       "</table>\n",
       "</div>"
      ],
      "text/plain": [
       "       n_genes  percent_mito  n_counts louvain  patient_id  \\\n",
       "16548      505      0.022158    1038.0       0          16   \n",
       "18705      364      0.017391     920.0       4          17   \n",
       "37697      748      0.000480    2085.0      14          28   \n",
       "40241      548      0.018234    1042.0       1          29   \n",
       "59847      351      0.040678     590.0       1          47   \n",
       "\n",
       "      patient_tumorsection NormalvsTumor patientno PNC PIC ViralvsNonViral  \\\n",
       "16548                P3_T5             T        P3   P   P        Negative   \n",
       "18705                 P4_N             N        P4   N   N        Positive   \n",
       "37697                P7_T1             T        P7   P   P        Positive   \n",
       "40241                P7_T2             T        P7   P   P        Positive   \n",
       "59847                P13_N             N       P13   N   N        Negative   \n",
       "\n",
       "       louvain_merge    Cell Type Cell Type (Manual Annotation)  str_batch  \n",
       "16548              0   CD4+ Cells                  CD4+ Cells 1          0  \n",
       "18705              4   CD8+ Cells                  CD8+ Cells 2          0  \n",
       "37697             14  Hepatocytes                 Hepatocytes 3          0  \n",
       "40241              1     Nk Cells                    Nk Cells 1          0  \n",
       "59847              1     Nk Cells                    Nk Cells 1          0  "
      ]
     },
     "execution_count": 8,
     "metadata": {},
     "output_type": "execute_result"
    }
   ],
   "source": [
    "HCC_random_train.obs['str_batch'] = 0\n",
    "HCC_random_train.obs.head()"
   ]
  },
  {
   "cell_type": "code",
   "execution_count": 9,
   "metadata": {},
   "outputs": [
    {
     "name": "stderr",
     "output_type": "stream",
     "text": [
      "C:\\Users\\Vaishnavi Gaad\\AppData\\Local\\Temp\\ipykernel_37972\\796004646.py:1: ImplicitModificationWarning: Trying to modify attribute `.obs` of view, initializing view as actual.\n",
      "  HCC_random_test.obs['str_batch'] = 1\n"
     ]
    },
    {
     "data": {
      "text/html": [
       "<div>\n",
       "<style scoped>\n",
       "    .dataframe tbody tr th:only-of-type {\n",
       "        vertical-align: middle;\n",
       "    }\n",
       "\n",
       "    .dataframe tbody tr th {\n",
       "        vertical-align: top;\n",
       "    }\n",
       "\n",
       "    .dataframe thead th {\n",
       "        text-align: right;\n",
       "    }\n",
       "</style>\n",
       "<table border=\"1\" class=\"dataframe\">\n",
       "  <thead>\n",
       "    <tr style=\"text-align: right;\">\n",
       "      <th></th>\n",
       "      <th>n_genes</th>\n",
       "      <th>percent_mito</th>\n",
       "      <th>n_counts</th>\n",
       "      <th>louvain</th>\n",
       "      <th>patient_id</th>\n",
       "      <th>patient_tumorsection</th>\n",
       "      <th>NormalvsTumor</th>\n",
       "      <th>patientno</th>\n",
       "      <th>PNC</th>\n",
       "      <th>PIC</th>\n",
       "      <th>ViralvsNonViral</th>\n",
       "      <th>louvain_merge</th>\n",
       "      <th>Cell Type</th>\n",
       "      <th>Cell Type (Manual Annotation)</th>\n",
       "      <th>str_batch</th>\n",
       "    </tr>\n",
       "  </thead>\n",
       "  <tbody>\n",
       "    <tr>\n",
       "      <th>72055</th>\n",
       "      <td>671</td>\n",
       "      <td>0.021120</td>\n",
       "      <td>2036.0</td>\n",
       "      <td>8</td>\n",
       "      <td>58</td>\n",
       "      <td>P15_T4T5</td>\n",
       "      <td>T</td>\n",
       "      <td>P15</td>\n",
       "      <td>P</td>\n",
       "      <td>P</td>\n",
       "      <td>Negative</td>\n",
       "      <td>8</td>\n",
       "      <td>Myeloid</td>\n",
       "      <td>Myeloid 1</td>\n",
       "      <td>1</td>\n",
       "    </tr>\n",
       "    <tr>\n",
       "      <th>58920</th>\n",
       "      <td>555</td>\n",
       "      <td>0.019349</td>\n",
       "      <td>1137.0</td>\n",
       "      <td>2</td>\n",
       "      <td>47</td>\n",
       "      <td>P13_N</td>\n",
       "      <td>N</td>\n",
       "      <td>P13</td>\n",
       "      <td>N</td>\n",
       "      <td>N</td>\n",
       "      <td>Negative</td>\n",
       "      <td>2</td>\n",
       "      <td>Endothelial Cells</td>\n",
       "      <td>Endothelial Cells 1</td>\n",
       "      <td>1</td>\n",
       "    </tr>\n",
       "    <tr>\n",
       "      <th>35506</th>\n",
       "      <td>658</td>\n",
       "      <td>0.019710</td>\n",
       "      <td>1725.0</td>\n",
       "      <td>5</td>\n",
       "      <td>26</td>\n",
       "      <td>P6_T2</td>\n",
       "      <td>T</td>\n",
       "      <td>P6</td>\n",
       "      <td>P</td>\n",
       "      <td>P</td>\n",
       "      <td>Negative</td>\n",
       "      <td>5</td>\n",
       "      <td>CD4+ Cells</td>\n",
       "      <td>CD4+ Cells 2</td>\n",
       "      <td>1</td>\n",
       "    </tr>\n",
       "    <tr>\n",
       "      <th>16987</th>\n",
       "      <td>507</td>\n",
       "      <td>0.017062</td>\n",
       "      <td>1055.0</td>\n",
       "      <td>4</td>\n",
       "      <td>16</td>\n",
       "      <td>P3_T5</td>\n",
       "      <td>T</td>\n",
       "      <td>P3</td>\n",
       "      <td>P</td>\n",
       "      <td>P</td>\n",
       "      <td>Negative</td>\n",
       "      <td>4</td>\n",
       "      <td>CD8+ Cells</td>\n",
       "      <td>CD8+ Cells 2</td>\n",
       "      <td>1</td>\n",
       "    </tr>\n",
       "    <tr>\n",
       "      <th>18229</th>\n",
       "      <td>881</td>\n",
       "      <td>0.027952</td>\n",
       "      <td>2075.0</td>\n",
       "      <td>12</td>\n",
       "      <td>17</td>\n",
       "      <td>P4_N</td>\n",
       "      <td>N</td>\n",
       "      <td>P4</td>\n",
       "      <td>N</td>\n",
       "      <td>N</td>\n",
       "      <td>Positive</td>\n",
       "      <td>12</td>\n",
       "      <td>Tregs</td>\n",
       "      <td>Tregs</td>\n",
       "      <td>1</td>\n",
       "    </tr>\n",
       "  </tbody>\n",
       "</table>\n",
       "</div>"
      ],
      "text/plain": [
       "       n_genes  percent_mito  n_counts louvain  patient_id  \\\n",
       "72055      671      0.021120    2036.0       8          58   \n",
       "58920      555      0.019349    1137.0       2          47   \n",
       "35506      658      0.019710    1725.0       5          26   \n",
       "16987      507      0.017062    1055.0       4          16   \n",
       "18229      881      0.027952    2075.0      12          17   \n",
       "\n",
       "      patient_tumorsection NormalvsTumor patientno PNC PIC ViralvsNonViral  \\\n",
       "72055             P15_T4T5             T       P15   P   P        Negative   \n",
       "58920                P13_N             N       P13   N   N        Negative   \n",
       "35506                P6_T2             T        P6   P   P        Negative   \n",
       "16987                P3_T5             T        P3   P   P        Negative   \n",
       "18229                 P4_N             N        P4   N   N        Positive   \n",
       "\n",
       "       louvain_merge          Cell Type Cell Type (Manual Annotation)  \\\n",
       "72055              8            Myeloid                     Myeloid 1   \n",
       "58920              2  Endothelial Cells           Endothelial Cells 1   \n",
       "35506              5         CD4+ Cells                  CD4+ Cells 2   \n",
       "16987              4         CD8+ Cells                  CD8+ Cells 2   \n",
       "18229             12              Tregs                         Tregs   \n",
       "\n",
       "       str_batch  \n",
       "72055          1  \n",
       "58920          1  \n",
       "35506          1  \n",
       "16987          1  \n",
       "18229          1  "
      ]
     },
     "execution_count": 9,
     "metadata": {},
     "output_type": "execute_result"
    }
   ],
   "source": [
    "HCC_random_test.obs['str_batch'] = 1\n",
    "HCC_random_test.obs.head()"
   ]
  },
  {
   "cell_type": "code",
   "execution_count": 10,
   "metadata": {},
   "outputs": [
    {
     "data": {
      "text/plain": [
       "<14718x1907 sparse matrix of type '<class 'numpy.float32'>'\n",
       "\twith 1871081 stored elements in Compressed Sparse Row format>"
      ]
     },
     "execution_count": 10,
     "metadata": {},
     "output_type": "execute_result"
    }
   ],
   "source": [
    "HCC_random_test.X"
   ]
  },
  {
   "cell_type": "code",
   "execution_count": 11,
   "metadata": {},
   "outputs": [
    {
     "name": "stdout",
     "output_type": "stream",
     "text": [
      "  (0, 1905)\t2.0794415\n",
      "  (0, 1904)\t1.3862944\n",
      "  (0, 1903)\t1.609438\n",
      "  (0, 1885)\t0.6931472\n",
      "  (0, 1878)\t0.6931472\n",
      "  (0, 1870)\t0.6931472\n",
      "  (0, 1866)\t0.6931472\n",
      "  (0, 1854)\t0.6931472\n",
      "  (0, 1829)\t0.6931472\n",
      "  (0, 1828)\t0.6931472\n",
      "  (0, 1823)\t0.6931472\n",
      "  (0, 1820)\t0.6931472\n",
      "  (0, 1814)\t0.6931472\n",
      "  (0, 1813)\t0.6931472\n",
      "  (0, 1801)\t1.0986123\n",
      "  (0, 1777)\t2.1972246\n",
      "  (0, 1771)\t0.6931472\n",
      "  (0, 1768)\t0.6931472\n",
      "  (0, 1764)\t1.0986123\n",
      "  (0, 1744)\t1.0986123\n",
      "  (0, 1736)\t0.6931472\n",
      "  (0, 1735)\t0.6931472\n",
      "  (0, 1723)\t0.6931472\n",
      "  (0, 1716)\t0.6931472\n",
      "  (0, 1707)\t0.6931472\n",
      "  :\t:\n",
      "  (14717, 385)\t1.0986123\n",
      "  (14717, 368)\t0.6931472\n",
      "  (14717, 356)\t1.0986123\n",
      "  (14717, 348)\t0.6931472\n",
      "  (14717, 326)\t0.6931472\n",
      "  (14717, 317)\t0.6931472\n",
      "  (14717, 315)\t1.0986123\n",
      "  (14717, 312)\t1.0986123\n",
      "  (14717, 302)\t0.6931472\n",
      "  (14717, 290)\t0.6931472\n",
      "  (14717, 287)\t0.6931472\n",
      "  (14717, 257)\t1.0986123\n",
      "  (14717, 232)\t0.6931472\n",
      "  (14717, 228)\t0.6931472\n",
      "  (14717, 177)\t0.6931472\n",
      "  (14717, 163)\t0.6931472\n",
      "  (14717, 129)\t0.6931472\n",
      "  (14717, 127)\t0.6931472\n",
      "  (14717, 122)\t1.3862944\n",
      "  (14717, 93)\t0.6931472\n",
      "  (14717, 82)\t0.6931472\n",
      "  (14717, 66)\t0.6931472\n",
      "  (14717, 45)\t0.6931472\n",
      "  (14717, 41)\t0.6931472\n",
      "  (14717, 26)\t0.6931472\n"
     ]
    }
   ],
   "source": [
    "print(HCC_random_test.X)"
   ]
  },
  {
   "cell_type": "code",
   "execution_count": 11,
   "metadata": {},
   "outputs": [],
   "source": [
    "# import scipy.sparse as sp\n",
    "# HCC_random_train.X = sp.csr_matrix(HCC_random_train.X)\n",
    "# print(HCC_random_train.X)"
   ]
  },
  {
   "cell_type": "code",
   "execution_count": 12,
   "metadata": {},
   "outputs": [
    {
     "data": {
      "text/plain": [
       "0.0"
      ]
     },
     "execution_count": 12,
     "metadata": {},
     "output_type": "execute_result"
    }
   ],
   "source": [
    "HCC_random_train.X.min()"
   ]
  },
  {
   "cell_type": "code",
   "execution_count": 12,
   "metadata": {},
   "outputs": [],
   "source": [
    "# HCC_random_test.X = sp.csr_matrix(HCC_random_test.X)\n",
    "# print(HCC_random_test.X)"
   ]
  },
  {
   "cell_type": "code",
   "execution_count": 13,
   "metadata": {},
   "outputs": [
    {
     "data": {
      "text/plain": [
       "0.0"
      ]
     },
     "execution_count": 13,
     "metadata": {},
     "output_type": "execute_result"
    }
   ],
   "source": [
    "HCC_random_test.X.min()"
   ]
  },
  {
   "cell_type": "code",
   "execution_count": 14,
   "metadata": {},
   "outputs": [
    {
     "data": {
      "text/plain": [
       "1907"
      ]
     },
     "execution_count": 14,
     "metadata": {},
     "output_type": "execute_result"
    }
   ],
   "source": [
    "len(HCC_random_train.var['gene_name'].unique())"
   ]
  },
  {
   "cell_type": "code",
   "execution_count": 15,
   "metadata": {},
   "outputs": [
    {
     "data": {
      "text/plain": [
       "1907"
      ]
     },
     "execution_count": 15,
     "metadata": {},
     "output_type": "execute_result"
    }
   ],
   "source": [
    "len(HCC_random_test.var['gene_name'].unique())"
   ]
  },
  {
   "cell_type": "code",
   "execution_count": 16,
   "metadata": {},
   "outputs": [],
   "source": [
    "sc.write('HCC_random_train(Manual_Annotation).h5ad', HCC_random_train)"
   ]
  },
  {
   "cell_type": "code",
   "execution_count": 17,
   "metadata": {},
   "outputs": [],
   "source": [
    "sc.write('HCC_random_test(Manual_Annotation).h5ad', HCC_random_test)"
   ]
  },
  {
   "cell_type": "markdown",
   "metadata": {},
   "source": [
    "*SMOTE - One Hot Encoding*"
   ]
  },
  {
   "cell_type": "code",
   "execution_count": 16,
   "metadata": {},
   "outputs": [],
   "source": [
    "from imblearn.over_sampling import SMOTE\n",
    "from sklearn.preprocessing import OneHotEncoder"
   ]
  },
  {
   "cell_type": "code",
   "execution_count": 17,
   "metadata": {},
   "outputs": [],
   "source": [
    "# Separate features (X) and labels (y)\n",
    "X = HCC_random_train.X  # Features\n",
    "y = HCC_random_train.obs['Cell Type (Manual Annotation)']  # Labels"
   ]
  },
  {
   "cell_type": "code",
   "execution_count": 18,
   "metadata": {},
   "outputs": [
    {
     "name": "stderr",
     "output_type": "stream",
     "text": [
      "c:\\Users\\Public\\anaconda3\\envs\\scgpt\\lib\\site-packages\\sklearn\\preprocessing\\_encoders.py:975: FutureWarning: `sparse` was renamed to `sparse_output` in version 1.2 and will be removed in 1.4. `sparse_output` is ignored unless you leave `sparse` to its default value.\n",
      "  warnings.warn(\n"
     ]
    }
   ],
   "source": [
    "# Initialize OneHotEncoder\n",
    "onehot_encoder = OneHotEncoder(sparse=False)\n",
    "\n",
    "# Encode categorical labels using OneHotEncoder\n",
    "y_encoded = onehot_encoder.fit_transform(y.values.reshape(-1, 1))  # Reshape y to a column vect"
   ]
  },
  {
   "cell_type": "code",
   "execution_count": 19,
   "metadata": {},
   "outputs": [],
   "source": [
    "# Initialize SMOTE\n",
    "smote = SMOTE(random_state=rng)\n",
    "\n",
    "# Resample the data\n",
    "X_resampled, y_resampled = smote.fit_resample(X, y_encoded)  # Use encoded labels"
   ]
  },
  {
   "cell_type": "code",
   "execution_count": 20,
   "metadata": {},
   "outputs": [
    {
     "data": {
      "text/plain": [
       "array([[0, 0, 1, ..., 0, 0, 0],\n",
       "       [0, 0, 0, ..., 0, 0, 0],\n",
       "       [0, 0, 0, ..., 0, 0, 0],\n",
       "       ...,\n",
       "       [0, 0, 0, ..., 0, 0, 1],\n",
       "       [0, 0, 0, ..., 0, 0, 1],\n",
       "       [0, 0, 0, ..., 0, 0, 1]])"
      ]
     },
     "execution_count": 20,
     "metadata": {},
     "output_type": "execute_result"
    }
   ],
   "source": [
    "y_resampled"
   ]
  },
  {
   "cell_type": "code",
   "execution_count": 21,
   "metadata": {},
   "outputs": [
    {
     "data": {
      "text/plain": [
       "(233015, 29)"
      ]
     },
     "execution_count": 21,
     "metadata": {},
     "output_type": "execute_result"
    }
   ],
   "source": [
    "y_resampled.shape"
   ]
  },
  {
   "cell_type": "code",
   "execution_count": 22,
   "metadata": {},
   "outputs": [],
   "source": [
    "# Inverse transform one-hot encoded labels to get original labels\n",
    "y_resampled_original = onehot_encoder.inverse_transform(y_resampled)"
   ]
  },
  {
   "cell_type": "code",
   "execution_count": 23,
   "metadata": {},
   "outputs": [
    {
     "data": {
      "text/plain": [
       "array([['CD4+ Cells 1'],\n",
       "       ['CD8+ Cells 2'],\n",
       "       ['Hepatocytes 3'],\n",
       "       ...,\n",
       "       ['Tregs'],\n",
       "       ['Tregs'],\n",
       "       ['Tregs']], dtype=object)"
      ]
     },
     "execution_count": 23,
     "metadata": {},
     "output_type": "execute_result"
    }
   ],
   "source": [
    "y_resampled_original"
   ]
  },
  {
   "cell_type": "code",
   "execution_count": 24,
   "metadata": {},
   "outputs": [
    {
     "data": {
      "text/plain": [
       "(233015, 1)"
      ]
     },
     "execution_count": 24,
     "metadata": {},
     "output_type": "execute_result"
    }
   ],
   "source": [
    "y_resampled_original.shape"
   ]
  },
  {
   "cell_type": "code",
   "execution_count": 25,
   "metadata": {},
   "outputs": [
    {
     "data": {
      "text/plain": [
       "(233015,)"
      ]
     },
     "execution_count": 25,
     "metadata": {},
     "output_type": "execute_result"
    }
   ],
   "source": [
    "# Flatten y_resampled_original to make it 1-dimensional\n",
    "y_resampled_original_flat = np.ravel(y_resampled_original)\n",
    "\n",
    "y_resampled_original_flat.shape"
   ]
  },
  {
   "cell_type": "code",
   "execution_count": 26,
   "metadata": {},
   "outputs": [
    {
     "data": {
      "text/html": [
       "<div>\n",
       "<style scoped>\n",
       "    .dataframe tbody tr th:only-of-type {\n",
       "        vertical-align: middle;\n",
       "    }\n",
       "\n",
       "    .dataframe tbody tr th {\n",
       "        vertical-align: top;\n",
       "    }\n",
       "\n",
       "    .dataframe thead th {\n",
       "        text-align: right;\n",
       "    }\n",
       "</style>\n",
       "<table border=\"1\" class=\"dataframe\">\n",
       "  <thead>\n",
       "    <tr style=\"text-align: right;\">\n",
       "      <th></th>\n",
       "      <th>Cell Type (Manual Annotation)</th>\n",
       "    </tr>\n",
       "  </thead>\n",
       "  <tbody>\n",
       "    <tr>\n",
       "      <th>0</th>\n",
       "      <td>CD4+ Cells 1</td>\n",
       "    </tr>\n",
       "    <tr>\n",
       "      <th>1</th>\n",
       "      <td>CD8+ Cells 2</td>\n",
       "    </tr>\n",
       "    <tr>\n",
       "      <th>2</th>\n",
       "      <td>Hepatocytes 3</td>\n",
       "    </tr>\n",
       "    <tr>\n",
       "      <th>3</th>\n",
       "      <td>Nk Cells 1</td>\n",
       "    </tr>\n",
       "    <tr>\n",
       "      <th>4</th>\n",
       "      <td>Nk Cells 1</td>\n",
       "    </tr>\n",
       "  </tbody>\n",
       "</table>\n",
       "</div>"
      ],
      "text/plain": [
       "  Cell Type (Manual Annotation)\n",
       "0                  CD4+ Cells 1\n",
       "1                  CD8+ Cells 2\n",
       "2                 Hepatocytes 3\n",
       "3                    Nk Cells 1\n",
       "4                    Nk Cells 1"
      ]
     },
     "execution_count": 26,
     "metadata": {},
     "output_type": "execute_result"
    }
   ],
   "source": [
    "# Create a new AnnData object with resampled data\n",
    "resampled_adata = sc.AnnData(X_resampled, obs={'Cell Type (Manual Annotation)': y_resampled_original_flat})\n",
    "\n",
    "resampled_adata.obs.head()"
   ]
  },
  {
   "cell_type": "code",
   "execution_count": 27,
   "metadata": {},
   "outputs": [
    {
     "data": {
      "text/html": [
       "<div>\n",
       "<style scoped>\n",
       "    .dataframe tbody tr th:only-of-type {\n",
       "        vertical-align: middle;\n",
       "    }\n",
       "\n",
       "    .dataframe tbody tr th {\n",
       "        vertical-align: top;\n",
       "    }\n",
       "\n",
       "    .dataframe thead th {\n",
       "        text-align: right;\n",
       "    }\n",
       "</style>\n",
       "<table border=\"1\" class=\"dataframe\">\n",
       "  <thead>\n",
       "    <tr style=\"text-align: right;\">\n",
       "      <th></th>\n",
       "      <th>Cell Type (Manual Annotation)</th>\n",
       "      <th>str_batch</th>\n",
       "    </tr>\n",
       "  </thead>\n",
       "  <tbody>\n",
       "    <tr>\n",
       "      <th>0</th>\n",
       "      <td>CD4+ Cells 1</td>\n",
       "      <td>0</td>\n",
       "    </tr>\n",
       "    <tr>\n",
       "      <th>1</th>\n",
       "      <td>CD8+ Cells 2</td>\n",
       "      <td>0</td>\n",
       "    </tr>\n",
       "    <tr>\n",
       "      <th>2</th>\n",
       "      <td>Hepatocytes 3</td>\n",
       "      <td>0</td>\n",
       "    </tr>\n",
       "    <tr>\n",
       "      <th>3</th>\n",
       "      <td>Nk Cells 1</td>\n",
       "      <td>0</td>\n",
       "    </tr>\n",
       "    <tr>\n",
       "      <th>4</th>\n",
       "      <td>Nk Cells 1</td>\n",
       "      <td>0</td>\n",
       "    </tr>\n",
       "  </tbody>\n",
       "</table>\n",
       "</div>"
      ],
      "text/plain": [
       "  Cell Type (Manual Annotation)  str_batch\n",
       "0                  CD4+ Cells 1          0\n",
       "1                  CD8+ Cells 2          0\n",
       "2                 Hepatocytes 3          0\n",
       "3                    Nk Cells 1          0\n",
       "4                    Nk Cells 1          0"
      ]
     },
     "execution_count": 27,
     "metadata": {},
     "output_type": "execute_result"
    }
   ],
   "source": [
    "resampled_adata.obs['str_batch'] = 0\n",
    "resampled_adata.obs.head()"
   ]
  },
  {
   "cell_type": "code",
   "execution_count": 72,
   "metadata": {},
   "outputs": [
    {
     "data": {
      "text/html": [
       "<div>\n",
       "<style scoped>\n",
       "    .dataframe tbody tr th:only-of-type {\n",
       "        vertical-align: middle;\n",
       "    }\n",
       "\n",
       "    .dataframe tbody tr th {\n",
       "        vertical-align: top;\n",
       "    }\n",
       "\n",
       "    .dataframe thead th {\n",
       "        text-align: right;\n",
       "    }\n",
       "</style>\n",
       "<table border=\"1\" class=\"dataframe\">\n",
       "  <thead>\n",
       "    <tr style=\"text-align: right;\">\n",
       "      <th></th>\n",
       "      <th>Cell Type (Manual Annotation)</th>\n",
       "      <th>str_batch</th>\n",
       "      <th>Cell Type</th>\n",
       "    </tr>\n",
       "  </thead>\n",
       "  <tbody>\n",
       "    <tr>\n",
       "      <th>0</th>\n",
       "      <td>CD4+ Cells 1</td>\n",
       "      <td>0</td>\n",
       "      <td>CD4+ Cells</td>\n",
       "    </tr>\n",
       "    <tr>\n",
       "      <th>1</th>\n",
       "      <td>CD8+ Cells 2</td>\n",
       "      <td>0</td>\n",
       "      <td>CD8+ Cells</td>\n",
       "    </tr>\n",
       "    <tr>\n",
       "      <th>2</th>\n",
       "      <td>Hepatocytes 3</td>\n",
       "      <td>0</td>\n",
       "      <td>Hepatocytes</td>\n",
       "    </tr>\n",
       "    <tr>\n",
       "      <th>3</th>\n",
       "      <td>Nk Cells 1</td>\n",
       "      <td>0</td>\n",
       "      <td>Nk Cells</td>\n",
       "    </tr>\n",
       "    <tr>\n",
       "      <th>4</th>\n",
       "      <td>Nk Cells 1</td>\n",
       "      <td>0</td>\n",
       "      <td>Nk Cells</td>\n",
       "    </tr>\n",
       "  </tbody>\n",
       "</table>\n",
       "</div>"
      ],
      "text/plain": [
       "  Cell Type (Manual Annotation)  str_batch    Cell Type\n",
       "0                  CD4+ Cells 1          0   CD4+ Cells\n",
       "1                  CD8+ Cells 2          0   CD8+ Cells\n",
       "2                 Hepatocytes 3          0  Hepatocytes\n",
       "3                    Nk Cells 1          0     Nk Cells\n",
       "4                    Nk Cells 1          0     Nk Cells"
      ]
     },
     "execution_count": 72,
     "metadata": {},
     "output_type": "execute_result"
    }
   ],
   "source": [
    "# Extract the text part from the existing column using regular expressions\n",
    "# resampled_adata.obs['Cell Type'] = resampled_adata.obs['Cell Type (Manual Annotation)'].str.rpartition(' ',expand=False).str[0]\n",
    "resampled_adata.obs['Cell Type'] = resampled_adata.obs['Cell Type (Manual Annotation)'].apply(lambda x: x.rpartition(' ')[0] if any(char.isdigit() for char in x) else x)\n",
    "resampled_adata.obs.head()"
   ]
  },
  {
   "cell_type": "code",
   "execution_count": 73,
   "metadata": {},
   "outputs": [
    {
     "data": {
      "text/plain": [
       "array(['CD4+ Cells', 'CD8+ Cells', 'Hepatocytes', 'Nk Cells', 'Tregs',\n",
       "       'Endothelial Cells', 'Fibroblasts', 'Myeloid', 'Bi-Potent Cells',\n",
       "       'B Cells', 'Mast Cells'], dtype=object)"
      ]
     },
     "execution_count": 73,
     "metadata": {},
     "output_type": "execute_result"
    }
   ],
   "source": [
    "resampled_adata.obs['Cell Type'].unique()"
   ]
  },
  {
   "cell_type": "code",
   "execution_count": 74,
   "metadata": {},
   "outputs": [
    {
     "data": {
      "text/plain": [
       "<233015x1907 sparse matrix of type '<class 'numpy.float32'>'\n",
       "\twith 47682428 stored elements in Compressed Sparse Row format>"
      ]
     },
     "execution_count": 74,
     "metadata": {},
     "output_type": "execute_result"
    }
   ],
   "source": [
    "resampled_adata.X"
   ]
  },
  {
   "cell_type": "code",
   "execution_count": 75,
   "metadata": {},
   "outputs": [
    {
     "data": {
      "text/html": [
       "<div>\n",
       "<style scoped>\n",
       "    .dataframe tbody tr th:only-of-type {\n",
       "        vertical-align: middle;\n",
       "    }\n",
       "\n",
       "    .dataframe tbody tr th {\n",
       "        vertical-align: top;\n",
       "    }\n",
       "\n",
       "    .dataframe thead th {\n",
       "        text-align: right;\n",
       "    }\n",
       "</style>\n",
       "<table border=\"1\" class=\"dataframe\">\n",
       "  <thead>\n",
       "    <tr style=\"text-align: right;\">\n",
       "      <th></th>\n",
       "      <th>gene_ids</th>\n",
       "      <th>n_cells</th>\n",
       "      <th>gene_name</th>\n",
       "      <th>highly_variable</th>\n",
       "      <th>means</th>\n",
       "      <th>dispersions</th>\n",
       "      <th>dispersions_norm</th>\n",
       "    </tr>\n",
       "    <tr>\n",
       "      <th>index</th>\n",
       "      <th></th>\n",
       "      <th></th>\n",
       "      <th></th>\n",
       "      <th></th>\n",
       "      <th></th>\n",
       "      <th></th>\n",
       "      <th></th>\n",
       "    </tr>\n",
       "  </thead>\n",
       "  <tbody>\n",
       "    <tr>\n",
       "      <th>TNFRSF18</th>\n",
       "      <td>0</td>\n",
       "      <td>3919</td>\n",
       "      <td>TNFRSF18</td>\n",
       "      <td>True</td>\n",
       "      <td>0.059571</td>\n",
       "      <td>0.974046</td>\n",
       "      <td>1.668143</td>\n",
       "    </tr>\n",
       "    <tr>\n",
       "      <th>TNFRSF4</th>\n",
       "      <td>0</td>\n",
       "      <td>7262</td>\n",
       "      <td>TNFRSF4</td>\n",
       "      <td>True</td>\n",
       "      <td>0.129138</td>\n",
       "      <td>1.673035</td>\n",
       "      <td>3.265401</td>\n",
       "    </tr>\n",
       "    <tr>\n",
       "      <th>AURKAIP1</th>\n",
       "      <td>0</td>\n",
       "      <td>23768</td>\n",
       "      <td>AURKAIP1</td>\n",
       "      <td>True</td>\n",
       "      <td>0.233932</td>\n",
       "      <td>0.621050</td>\n",
       "      <td>0.861512</td>\n",
       "    </tr>\n",
       "    <tr>\n",
       "      <th>VWA1</th>\n",
       "      <td>0</td>\n",
       "      <td>3179</td>\n",
       "      <td>VWA1</td>\n",
       "      <td>True</td>\n",
       "      <td>0.023489</td>\n",
       "      <td>0.896191</td>\n",
       "      <td>1.490236</td>\n",
       "    </tr>\n",
       "    <tr>\n",
       "      <th>RER1</th>\n",
       "      <td>0</td>\n",
       "      <td>16570</td>\n",
       "      <td>RER1</td>\n",
       "      <td>True</td>\n",
       "      <td>0.156770</td>\n",
       "      <td>0.570216</td>\n",
       "      <td>0.745351</td>\n",
       "    </tr>\n",
       "    <tr>\n",
       "      <th>...</th>\n",
       "      <td>...</td>\n",
       "      <td>...</td>\n",
       "      <td>...</td>\n",
       "      <td>...</td>\n",
       "      <td>...</td>\n",
       "      <td>...</td>\n",
       "      <td>...</td>\n",
       "    </tr>\n",
       "    <tr>\n",
       "      <th>S100B</th>\n",
       "      <td>0</td>\n",
       "      <td>1868</td>\n",
       "      <td>S100B</td>\n",
       "      <td>True</td>\n",
       "      <td>0.051653</td>\n",
       "      <td>2.663278</td>\n",
       "      <td>5.528205</td>\n",
       "    </tr>\n",
       "    <tr>\n",
       "      <th>MT-CO1</th>\n",
       "      <td>0</td>\n",
       "      <td>104281</td>\n",
       "      <td>MT-CO1</td>\n",
       "      <td>True</td>\n",
       "      <td>2.515163</td>\n",
       "      <td>3.559864</td>\n",
       "      <td>1.543638</td>\n",
       "    </tr>\n",
       "    <tr>\n",
       "      <th>MT-CO2</th>\n",
       "      <td>0</td>\n",
       "      <td>100229</td>\n",
       "      <td>MT-CO2</td>\n",
       "      <td>True</td>\n",
       "      <td>2.055961</td>\n",
       "      <td>3.858118</td>\n",
       "      <td>3.586790</td>\n",
       "    </tr>\n",
       "    <tr>\n",
       "      <th>MT-CO3</th>\n",
       "      <td>0</td>\n",
       "      <td>98770</td>\n",
       "      <td>MT-CO3</td>\n",
       "      <td>True</td>\n",
       "      <td>1.972075</td>\n",
       "      <td>3.019758</td>\n",
       "      <td>1.259902</td>\n",
       "    </tr>\n",
       "    <tr>\n",
       "      <th>MT-ND4L</th>\n",
       "      <td>0</td>\n",
       "      <td>29929</td>\n",
       "      <td>MT-ND4L</td>\n",
       "      <td>True</td>\n",
       "      <td>0.182856</td>\n",
       "      <td>0.625154</td>\n",
       "      <td>0.870891</td>\n",
       "    </tr>\n",
       "  </tbody>\n",
       "</table>\n",
       "<p>1907 rows × 7 columns</p>\n",
       "</div>"
      ],
      "text/plain": [
       "          gene_ids  n_cells gene_name  highly_variable     means  dispersions  \\\n",
       "index                                                                           \n",
       "TNFRSF18         0     3919  TNFRSF18             True  0.059571     0.974046   \n",
       "TNFRSF4          0     7262   TNFRSF4             True  0.129138     1.673035   \n",
       "AURKAIP1         0    23768  AURKAIP1             True  0.233932     0.621050   \n",
       "VWA1             0     3179      VWA1             True  0.023489     0.896191   \n",
       "RER1             0    16570      RER1             True  0.156770     0.570216   \n",
       "...            ...      ...       ...              ...       ...          ...   \n",
       "S100B            0     1868     S100B             True  0.051653     2.663278   \n",
       "MT-CO1           0   104281    MT-CO1             True  2.515163     3.559864   \n",
       "MT-CO2           0   100229    MT-CO2             True  2.055961     3.858118   \n",
       "MT-CO3           0    98770    MT-CO3             True  1.972075     3.019758   \n",
       "MT-ND4L          0    29929   MT-ND4L             True  0.182856     0.625154   \n",
       "\n",
       "          dispersions_norm  \n",
       "index                       \n",
       "TNFRSF18          1.668143  \n",
       "TNFRSF4           3.265401  \n",
       "AURKAIP1          0.861512  \n",
       "VWA1              1.490236  \n",
       "RER1              0.745351  \n",
       "...                    ...  \n",
       "S100B             5.528205  \n",
       "MT-CO1            1.543638  \n",
       "MT-CO2            3.586790  \n",
       "MT-CO3            1.259902  \n",
       "MT-ND4L           0.870891  \n",
       "\n",
       "[1907 rows x 7 columns]"
      ]
     },
     "execution_count": 75,
     "metadata": {},
     "output_type": "execute_result"
    }
   ],
   "source": [
    "resampled_adata.var"
   ]
  },
  {
   "cell_type": "code",
   "execution_count": 76,
   "metadata": {},
   "outputs": [
    {
     "data": {
      "text/html": [
       "<div>\n",
       "<style scoped>\n",
       "    .dataframe tbody tr th:only-of-type {\n",
       "        vertical-align: middle;\n",
       "    }\n",
       "\n",
       "    .dataframe tbody tr th {\n",
       "        vertical-align: top;\n",
       "    }\n",
       "\n",
       "    .dataframe thead th {\n",
       "        text-align: right;\n",
       "    }\n",
       "</style>\n",
       "<table border=\"1\" class=\"dataframe\">\n",
       "  <thead>\n",
       "    <tr style=\"text-align: right;\">\n",
       "      <th></th>\n",
       "      <th>gene_ids</th>\n",
       "      <th>n_cells</th>\n",
       "      <th>gene_name</th>\n",
       "      <th>highly_variable</th>\n",
       "      <th>means</th>\n",
       "      <th>dispersions</th>\n",
       "      <th>dispersions_norm</th>\n",
       "    </tr>\n",
       "    <tr>\n",
       "      <th>index</th>\n",
       "      <th></th>\n",
       "      <th></th>\n",
       "      <th></th>\n",
       "      <th></th>\n",
       "      <th></th>\n",
       "      <th></th>\n",
       "      <th></th>\n",
       "    </tr>\n",
       "  </thead>\n",
       "  <tbody>\n",
       "    <tr>\n",
       "      <th>TNFRSF18</th>\n",
       "      <td>0</td>\n",
       "      <td>3919</td>\n",
       "      <td>TNFRSF18</td>\n",
       "      <td>True</td>\n",
       "      <td>0.059571</td>\n",
       "      <td>0.974046</td>\n",
       "      <td>1.668143</td>\n",
       "    </tr>\n",
       "    <tr>\n",
       "      <th>TNFRSF4</th>\n",
       "      <td>0</td>\n",
       "      <td>7262</td>\n",
       "      <td>TNFRSF4</td>\n",
       "      <td>True</td>\n",
       "      <td>0.129138</td>\n",
       "      <td>1.673035</td>\n",
       "      <td>3.265401</td>\n",
       "    </tr>\n",
       "    <tr>\n",
       "      <th>AURKAIP1</th>\n",
       "      <td>0</td>\n",
       "      <td>23768</td>\n",
       "      <td>AURKAIP1</td>\n",
       "      <td>True</td>\n",
       "      <td>0.233932</td>\n",
       "      <td>0.621050</td>\n",
       "      <td>0.861512</td>\n",
       "    </tr>\n",
       "    <tr>\n",
       "      <th>VWA1</th>\n",
       "      <td>0</td>\n",
       "      <td>3179</td>\n",
       "      <td>VWA1</td>\n",
       "      <td>True</td>\n",
       "      <td>0.023489</td>\n",
       "      <td>0.896191</td>\n",
       "      <td>1.490236</td>\n",
       "    </tr>\n",
       "    <tr>\n",
       "      <th>RER1</th>\n",
       "      <td>0</td>\n",
       "      <td>16570</td>\n",
       "      <td>RER1</td>\n",
       "      <td>True</td>\n",
       "      <td>0.156770</td>\n",
       "      <td>0.570216</td>\n",
       "      <td>0.745351</td>\n",
       "    </tr>\n",
       "    <tr>\n",
       "      <th>...</th>\n",
       "      <td>...</td>\n",
       "      <td>...</td>\n",
       "      <td>...</td>\n",
       "      <td>...</td>\n",
       "      <td>...</td>\n",
       "      <td>...</td>\n",
       "      <td>...</td>\n",
       "    </tr>\n",
       "    <tr>\n",
       "      <th>S100B</th>\n",
       "      <td>0</td>\n",
       "      <td>1868</td>\n",
       "      <td>S100B</td>\n",
       "      <td>True</td>\n",
       "      <td>0.051653</td>\n",
       "      <td>2.663278</td>\n",
       "      <td>5.528205</td>\n",
       "    </tr>\n",
       "    <tr>\n",
       "      <th>MT-CO1</th>\n",
       "      <td>0</td>\n",
       "      <td>104281</td>\n",
       "      <td>MT-CO1</td>\n",
       "      <td>True</td>\n",
       "      <td>2.515163</td>\n",
       "      <td>3.559864</td>\n",
       "      <td>1.543638</td>\n",
       "    </tr>\n",
       "    <tr>\n",
       "      <th>MT-CO2</th>\n",
       "      <td>0</td>\n",
       "      <td>100229</td>\n",
       "      <td>MT-CO2</td>\n",
       "      <td>True</td>\n",
       "      <td>2.055961</td>\n",
       "      <td>3.858118</td>\n",
       "      <td>3.586790</td>\n",
       "    </tr>\n",
       "    <tr>\n",
       "      <th>MT-CO3</th>\n",
       "      <td>0</td>\n",
       "      <td>98770</td>\n",
       "      <td>MT-CO3</td>\n",
       "      <td>True</td>\n",
       "      <td>1.972075</td>\n",
       "      <td>3.019758</td>\n",
       "      <td>1.259902</td>\n",
       "    </tr>\n",
       "    <tr>\n",
       "      <th>MT-ND4L</th>\n",
       "      <td>0</td>\n",
       "      <td>29929</td>\n",
       "      <td>MT-ND4L</td>\n",
       "      <td>True</td>\n",
       "      <td>0.182856</td>\n",
       "      <td>0.625154</td>\n",
       "      <td>0.870891</td>\n",
       "    </tr>\n",
       "  </tbody>\n",
       "</table>\n",
       "<p>1907 rows × 7 columns</p>\n",
       "</div>"
      ],
      "text/plain": [
       "          gene_ids  n_cells gene_name  highly_variable     means  dispersions  \\\n",
       "index                                                                           \n",
       "TNFRSF18         0     3919  TNFRSF18             True  0.059571     0.974046   \n",
       "TNFRSF4          0     7262   TNFRSF4             True  0.129138     1.673035   \n",
       "AURKAIP1         0    23768  AURKAIP1             True  0.233932     0.621050   \n",
       "VWA1             0     3179      VWA1             True  0.023489     0.896191   \n",
       "RER1             0    16570      RER1             True  0.156770     0.570216   \n",
       "...            ...      ...       ...              ...       ...          ...   \n",
       "S100B            0     1868     S100B             True  0.051653     2.663278   \n",
       "MT-CO1           0   104281    MT-CO1             True  2.515163     3.559864   \n",
       "MT-CO2           0   100229    MT-CO2             True  2.055961     3.858118   \n",
       "MT-CO3           0    98770    MT-CO3             True  1.972075     3.019758   \n",
       "MT-ND4L          0    29929   MT-ND4L             True  0.182856     0.625154   \n",
       "\n",
       "          dispersions_norm  \n",
       "index                       \n",
       "TNFRSF18          1.668143  \n",
       "TNFRSF4           3.265401  \n",
       "AURKAIP1          0.861512  \n",
       "VWA1              1.490236  \n",
       "RER1              0.745351  \n",
       "...                    ...  \n",
       "S100B             5.528205  \n",
       "MT-CO1            1.543638  \n",
       "MT-CO2            3.586790  \n",
       "MT-CO3            1.259902  \n",
       "MT-ND4L           0.870891  \n",
       "\n",
       "[1907 rows x 7 columns]"
      ]
     },
     "execution_count": 76,
     "metadata": {},
     "output_type": "execute_result"
    }
   ],
   "source": [
    "resampled_adata.var = andata.var\n",
    "resampled_adata.var"
   ]
  },
  {
   "cell_type": "code",
   "execution_count": 77,
   "metadata": {},
   "outputs": [
    {
     "data": {
      "text/plain": [
       "AnnData object with n_obs × n_vars = 233015 × 1907\n",
       "    obs: 'Cell Type (Manual Annotation)', 'str_batch', 'Cell Type'\n",
       "    var: 'gene_ids', 'n_cells', 'gene_name', 'highly_variable', 'means', 'dispersions', 'dispersions_norm'"
      ]
     },
     "execution_count": 77,
     "metadata": {},
     "output_type": "execute_result"
    }
   ],
   "source": [
    "resampled_adata"
   ]
  },
  {
   "cell_type": "code",
   "execution_count": 78,
   "metadata": {},
   "outputs": [],
   "source": [
    "# Save the resampled data to a new .h5ad file\n",
    "resampled_adata.write_h5ad('HCC_random_train(Manual_Annotation)_SMOTE.h5ad')"
   ]
  },
  {
   "cell_type": "markdown",
   "metadata": {},
   "source": [
    "*NormalvsTumor*"
   ]
  },
  {
   "cell_type": "code",
   "execution_count": 18,
   "metadata": {},
   "outputs": [
    {
     "data": {
      "text/plain": [
       "['N', 'T']\n",
       "Categories (2, object): ['N', 'T']"
      ]
     },
     "execution_count": 18,
     "metadata": {},
     "output_type": "execute_result"
    }
   ],
   "source": [
    "andata.obs['NormalvsTumor'].unique()"
   ]
  },
  {
   "cell_type": "code",
   "execution_count": 19,
   "metadata": {},
   "outputs": [
    {
     "data": {
      "text/plain": [
       "16335"
      ]
     },
     "execution_count": 19,
     "metadata": {},
     "output_type": "execute_result"
    }
   ],
   "source": [
    "HCC_normal = andata[andata.obs['NormalvsTumor'] == 'N']\n",
    "HCC_normal.obs.__len__()"
   ]
  },
  {
   "cell_type": "code",
   "execution_count": 20,
   "metadata": {},
   "outputs": [
    {
     "data": {
      "text/plain": [
       "57254"
      ]
     },
     "execution_count": 20,
     "metadata": {},
     "output_type": "execute_result"
    }
   ],
   "source": [
    "HCC_tumor = andata[andata.obs['NormalvsTumor'] == 'T']\n",
    "HCC_tumor.obs.__len__()"
   ]
  },
  {
   "cell_type": "code",
   "execution_count": 21,
   "metadata": {},
   "outputs": [
    {
     "name": "stderr",
     "output_type": "stream",
     "text": [
      "C:\\Users\\Vaishnavi Gaad\\AppData\\Local\\Temp\\ipykernel_3956\\1407332947.py:1: ImplicitModificationWarning: Trying to modify attribute `.obs` of view, initializing view as actual.\n",
      "  HCC_normal.obs['str_batch'] = 0\n"
     ]
    },
    {
     "data": {
      "text/html": [
       "<div>\n",
       "<style scoped>\n",
       "    .dataframe tbody tr th:only-of-type {\n",
       "        vertical-align: middle;\n",
       "    }\n",
       "\n",
       "    .dataframe tbody tr th {\n",
       "        vertical-align: top;\n",
       "    }\n",
       "\n",
       "    .dataframe thead th {\n",
       "        text-align: right;\n",
       "    }\n",
       "</style>\n",
       "<table border=\"1\" class=\"dataframe\">\n",
       "  <thead>\n",
       "    <tr style=\"text-align: right;\">\n",
       "      <th></th>\n",
       "      <th>n_genes</th>\n",
       "      <th>percent_mito</th>\n",
       "      <th>n_counts</th>\n",
       "      <th>louvain</th>\n",
       "      <th>patient_id</th>\n",
       "      <th>patient_tumorsection</th>\n",
       "      <th>NormalvsTumor</th>\n",
       "      <th>patientno</th>\n",
       "      <th>PNC</th>\n",
       "      <th>PIC</th>\n",
       "      <th>ViralvsNonViral</th>\n",
       "      <th>louvain_merge</th>\n",
       "      <th>Cell Type</th>\n",
       "      <th>Cell Type (Manual Annotation)</th>\n",
       "      <th>str_batch</th>\n",
       "    </tr>\n",
       "  </thead>\n",
       "  <tbody>\n",
       "    <tr>\n",
       "      <th>0</th>\n",
       "      <td>502</td>\n",
       "      <td>0.021596</td>\n",
       "      <td>1065.0</td>\n",
       "      <td>4</td>\n",
       "      <td>1</td>\n",
       "      <td>P1_N</td>\n",
       "      <td>N</td>\n",
       "      <td>P1</td>\n",
       "      <td>N</td>\n",
       "      <td>N</td>\n",
       "      <td>Positive</td>\n",
       "      <td>4</td>\n",
       "      <td>CD8+ Cells</td>\n",
       "      <td>CD8+ Cells 2</td>\n",
       "      <td>0</td>\n",
       "    </tr>\n",
       "    <tr>\n",
       "      <th>1</th>\n",
       "      <td>414</td>\n",
       "      <td>0.021692</td>\n",
       "      <td>922.0</td>\n",
       "      <td>0</td>\n",
       "      <td>1</td>\n",
       "      <td>P1_N</td>\n",
       "      <td>N</td>\n",
       "      <td>P1</td>\n",
       "      <td>N</td>\n",
       "      <td>N</td>\n",
       "      <td>Positive</td>\n",
       "      <td>0</td>\n",
       "      <td>CD4+ Cells</td>\n",
       "      <td>CD4+ Cells 1</td>\n",
       "      <td>0</td>\n",
       "    </tr>\n",
       "    <tr>\n",
       "      <th>2</th>\n",
       "      <td>1276</td>\n",
       "      <td>0.033444</td>\n",
       "      <td>3319.0</td>\n",
       "      <td>9</td>\n",
       "      <td>1</td>\n",
       "      <td>P1_N</td>\n",
       "      <td>N</td>\n",
       "      <td>P1</td>\n",
       "      <td>N</td>\n",
       "      <td>N</td>\n",
       "      <td>Positive</td>\n",
       "      <td>9</td>\n",
       "      <td>Nk Cells</td>\n",
       "      <td>Nk Cells 2</td>\n",
       "      <td>0</td>\n",
       "    </tr>\n",
       "    <tr>\n",
       "      <th>3</th>\n",
       "      <td>788</td>\n",
       "      <td>0.018448</td>\n",
       "      <td>1843.0</td>\n",
       "      <td>4</td>\n",
       "      <td>1</td>\n",
       "      <td>P1_N</td>\n",
       "      <td>N</td>\n",
       "      <td>P1</td>\n",
       "      <td>N</td>\n",
       "      <td>N</td>\n",
       "      <td>Positive</td>\n",
       "      <td>4</td>\n",
       "      <td>CD8+ Cells</td>\n",
       "      <td>CD8+ Cells 2</td>\n",
       "      <td>0</td>\n",
       "    </tr>\n",
       "    <tr>\n",
       "      <th>4</th>\n",
       "      <td>591</td>\n",
       "      <td>0.047297</td>\n",
       "      <td>1332.0</td>\n",
       "      <td>0</td>\n",
       "      <td>1</td>\n",
       "      <td>P1_N</td>\n",
       "      <td>N</td>\n",
       "      <td>P1</td>\n",
       "      <td>N</td>\n",
       "      <td>N</td>\n",
       "      <td>Positive</td>\n",
       "      <td>0</td>\n",
       "      <td>CD4+ Cells</td>\n",
       "      <td>CD4+ Cells 1</td>\n",
       "      <td>0</td>\n",
       "    </tr>\n",
       "  </tbody>\n",
       "</table>\n",
       "</div>"
      ],
      "text/plain": [
       "   n_genes  percent_mito  n_counts louvain  patient_id patient_tumorsection  \\\n",
       "0      502      0.021596    1065.0       4           1                 P1_N   \n",
       "1      414      0.021692     922.0       0           1                 P1_N   \n",
       "2     1276      0.033444    3319.0       9           1                 P1_N   \n",
       "3      788      0.018448    1843.0       4           1                 P1_N   \n",
       "4      591      0.047297    1332.0       0           1                 P1_N   \n",
       "\n",
       "  NormalvsTumor patientno PNC PIC ViralvsNonViral  louvain_merge   Cell Type  \\\n",
       "0             N        P1   N   N        Positive              4  CD8+ Cells   \n",
       "1             N        P1   N   N        Positive              0  CD4+ Cells   \n",
       "2             N        P1   N   N        Positive              9    Nk Cells   \n",
       "3             N        P1   N   N        Positive              4  CD8+ Cells   \n",
       "4             N        P1   N   N        Positive              0  CD4+ Cells   \n",
       "\n",
       "  Cell Type (Manual Annotation)  str_batch  \n",
       "0                  CD8+ Cells 2          0  \n",
       "1                  CD4+ Cells 1          0  \n",
       "2                    Nk Cells 2          0  \n",
       "3                  CD8+ Cells 2          0  \n",
       "4                  CD4+ Cells 1          0  "
      ]
     },
     "execution_count": 21,
     "metadata": {},
     "output_type": "execute_result"
    }
   ],
   "source": [
    "HCC_normal.obs['str_batch'] = 0\n",
    "HCC_normal.obs.head()"
   ]
  },
  {
   "cell_type": "code",
   "execution_count": 22,
   "metadata": {},
   "outputs": [
    {
     "name": "stderr",
     "output_type": "stream",
     "text": [
      "C:\\Users\\Vaishnavi Gaad\\AppData\\Local\\Temp\\ipykernel_3956\\1333703366.py:1: ImplicitModificationWarning: Trying to modify attribute `.obs` of view, initializing view as actual.\n",
      "  HCC_tumor.obs['str_batch'] = 1\n"
     ]
    },
    {
     "data": {
      "text/html": [
       "<div>\n",
       "<style scoped>\n",
       "    .dataframe tbody tr th:only-of-type {\n",
       "        vertical-align: middle;\n",
       "    }\n",
       "\n",
       "    .dataframe tbody tr th {\n",
       "        vertical-align: top;\n",
       "    }\n",
       "\n",
       "    .dataframe thead th {\n",
       "        text-align: right;\n",
       "    }\n",
       "</style>\n",
       "<table border=\"1\" class=\"dataframe\">\n",
       "  <thead>\n",
       "    <tr style=\"text-align: right;\">\n",
       "      <th></th>\n",
       "      <th>n_genes</th>\n",
       "      <th>percent_mito</th>\n",
       "      <th>n_counts</th>\n",
       "      <th>louvain</th>\n",
       "      <th>patient_id</th>\n",
       "      <th>patient_tumorsection</th>\n",
       "      <th>NormalvsTumor</th>\n",
       "      <th>patientno</th>\n",
       "      <th>PNC</th>\n",
       "      <th>PIC</th>\n",
       "      <th>ViralvsNonViral</th>\n",
       "      <th>louvain_merge</th>\n",
       "      <th>Cell Type</th>\n",
       "      <th>Cell Type (Manual Annotation)</th>\n",
       "      <th>str_batch</th>\n",
       "    </tr>\n",
       "  </thead>\n",
       "  <tbody>\n",
       "    <tr>\n",
       "      <th>401</th>\n",
       "      <td>767</td>\n",
       "      <td>0.034323</td>\n",
       "      <td>2156.0</td>\n",
       "      <td>0</td>\n",
       "      <td>2</td>\n",
       "      <td>P1_T1</td>\n",
       "      <td>T</td>\n",
       "      <td>P1</td>\n",
       "      <td>P</td>\n",
       "      <td>P</td>\n",
       "      <td>Positive</td>\n",
       "      <td>0</td>\n",
       "      <td>CD4+ Cells</td>\n",
       "      <td>CD4+ Cells 1</td>\n",
       "      <td>1</td>\n",
       "    </tr>\n",
       "    <tr>\n",
       "      <th>402</th>\n",
       "      <td>631</td>\n",
       "      <td>0.008280</td>\n",
       "      <td>1570.0</td>\n",
       "      <td>0</td>\n",
       "      <td>2</td>\n",
       "      <td>P1_T1</td>\n",
       "      <td>T</td>\n",
       "      <td>P1</td>\n",
       "      <td>P</td>\n",
       "      <td>P</td>\n",
       "      <td>Positive</td>\n",
       "      <td>0</td>\n",
       "      <td>CD4+ Cells</td>\n",
       "      <td>CD4+ Cells 1</td>\n",
       "      <td>1</td>\n",
       "    </tr>\n",
       "    <tr>\n",
       "      <th>403</th>\n",
       "      <td>495</td>\n",
       "      <td>0.001779</td>\n",
       "      <td>1124.0</td>\n",
       "      <td>10</td>\n",
       "      <td>2</td>\n",
       "      <td>P1_T1</td>\n",
       "      <td>T</td>\n",
       "      <td>P1</td>\n",
       "      <td>P</td>\n",
       "      <td>P</td>\n",
       "      <td>Positive</td>\n",
       "      <td>10</td>\n",
       "      <td>Myeloid</td>\n",
       "      <td>Myeloid 2</td>\n",
       "      <td>1</td>\n",
       "    </tr>\n",
       "    <tr>\n",
       "      <th>404</th>\n",
       "      <td>967</td>\n",
       "      <td>0.017167</td>\n",
       "      <td>2563.0</td>\n",
       "      <td>8</td>\n",
       "      <td>2</td>\n",
       "      <td>P1_T1</td>\n",
       "      <td>T</td>\n",
       "      <td>P1</td>\n",
       "      <td>P</td>\n",
       "      <td>P</td>\n",
       "      <td>Positive</td>\n",
       "      <td>8</td>\n",
       "      <td>Myeloid</td>\n",
       "      <td>Myeloid 1</td>\n",
       "      <td>1</td>\n",
       "    </tr>\n",
       "    <tr>\n",
       "      <th>405</th>\n",
       "      <td>338</td>\n",
       "      <td>0.000000</td>\n",
       "      <td>810.0</td>\n",
       "      <td>8</td>\n",
       "      <td>2</td>\n",
       "      <td>P1_T1</td>\n",
       "      <td>T</td>\n",
       "      <td>P1</td>\n",
       "      <td>P</td>\n",
       "      <td>P</td>\n",
       "      <td>Positive</td>\n",
       "      <td>8</td>\n",
       "      <td>Myeloid</td>\n",
       "      <td>Myeloid 1</td>\n",
       "      <td>1</td>\n",
       "    </tr>\n",
       "  </tbody>\n",
       "</table>\n",
       "</div>"
      ],
      "text/plain": [
       "     n_genes  percent_mito  n_counts louvain  patient_id patient_tumorsection  \\\n",
       "401      767      0.034323    2156.0       0           2                P1_T1   \n",
       "402      631      0.008280    1570.0       0           2                P1_T1   \n",
       "403      495      0.001779    1124.0      10           2                P1_T1   \n",
       "404      967      0.017167    2563.0       8           2                P1_T1   \n",
       "405      338      0.000000     810.0       8           2                P1_T1   \n",
       "\n",
       "    NormalvsTumor patientno PNC PIC ViralvsNonViral  louvain_merge  \\\n",
       "401             T        P1   P   P        Positive              0   \n",
       "402             T        P1   P   P        Positive              0   \n",
       "403             T        P1   P   P        Positive             10   \n",
       "404             T        P1   P   P        Positive              8   \n",
       "405             T        P1   P   P        Positive              8   \n",
       "\n",
       "      Cell Type Cell Type (Manual Annotation)  str_batch  \n",
       "401  CD4+ Cells                  CD4+ Cells 1          1  \n",
       "402  CD4+ Cells                  CD4+ Cells 1          1  \n",
       "403     Myeloid                     Myeloid 2          1  \n",
       "404     Myeloid                     Myeloid 1          1  \n",
       "405     Myeloid                     Myeloid 1          1  "
      ]
     },
     "execution_count": 22,
     "metadata": {},
     "output_type": "execute_result"
    }
   ],
   "source": [
    "HCC_tumor.obs['str_batch'] = 1\n",
    "HCC_tumor.obs.head()"
   ]
  },
  {
   "cell_type": "code",
   "execution_count": 23,
   "metadata": {},
   "outputs": [
    {
     "data": {
      "text/plain": [
       "array(['TNFRSF18', 'TNFRSF4', 'AURKAIP1', ..., 'MT-CO2', 'MT-CO3',\n",
       "       'MT-ND4L'], dtype=object)"
      ]
     },
     "execution_count": 23,
     "metadata": {},
     "output_type": "execute_result"
    }
   ],
   "source": [
    "HCC_normal.var['gene_name'].unique()"
   ]
  },
  {
   "cell_type": "code",
   "execution_count": 24,
   "metadata": {},
   "outputs": [
    {
     "data": {
      "text/plain": [
       "1907"
      ]
     },
     "execution_count": 24,
     "metadata": {},
     "output_type": "execute_result"
    }
   ],
   "source": [
    "len(HCC_normal.var['gene_name'].unique())"
   ]
  },
  {
   "cell_type": "code",
   "execution_count": 25,
   "metadata": {},
   "outputs": [
    {
     "data": {
      "text/plain": [
       "array(['TNFRSF18', 'TNFRSF4', 'AURKAIP1', ..., 'MT-CO2', 'MT-CO3',\n",
       "       'MT-ND4L'], dtype=object)"
      ]
     },
     "execution_count": 25,
     "metadata": {},
     "output_type": "execute_result"
    }
   ],
   "source": [
    "HCC_tumor.var['gene_name'].unique()"
   ]
  },
  {
   "cell_type": "code",
   "execution_count": 26,
   "metadata": {},
   "outputs": [
    {
     "data": {
      "text/plain": [
       "1907"
      ]
     },
     "execution_count": 26,
     "metadata": {},
     "output_type": "execute_result"
    }
   ],
   "source": [
    "len(HCC_tumor.var['gene_name'].unique())"
   ]
  },
  {
   "cell_type": "code",
   "execution_count": 27,
   "metadata": {},
   "outputs": [],
   "source": [
    "sc.write('HCC_normal(Manual_Annotation).h5ad', HCC_normal)"
   ]
  },
  {
   "cell_type": "code",
   "execution_count": 28,
   "metadata": {},
   "outputs": [],
   "source": [
    "sc.write('HCC_tumor(Manual_Annotation).h5ad', HCC_tumor)"
   ]
  },
  {
   "cell_type": "markdown",
   "metadata": {},
   "source": [
    "*5% Data Sampling*"
   ]
  },
  {
   "cell_type": "code",
   "execution_count": 4,
   "metadata": {},
   "outputs": [],
   "source": [
    "# Set a seed value for reproducibility\n",
    "np.random.seed(0)\n",
    "\n",
    "# Get the number of samples to select (5% of the total)\n",
    "num_samples = int(0.05 * andata.n_obs)\n",
    "\n",
    "# Randomly select 5% of the indices\n",
    "sampled_indices = np.random.choice(andata.n_obs, size=num_samples, replace=False)\n",
    "\n",
    "# Create a new AnnData object containing only the sampled data\n",
    "HCC_sampled = andata[sampled_indices, :]"
   ]
  },
  {
   "cell_type": "code",
   "execution_count": 5,
   "metadata": {},
   "outputs": [],
   "source": [
    "rng = np.random.RandomState(0)\n",
    "from sklearn.model_selection import train_test_split\n",
    "\n",
    "HCC_sampled_train_5, HCC_sampled_test_5 = train_test_split(HCC_sampled, test_size=0.20, random_state=rng ) "
   ]
  },
  {
   "cell_type": "code",
   "execution_count": null,
   "metadata": {},
   "outputs": [],
   "source": [
    "HCC_sampled_train_5.obs['str_batch'] = 0\n",
    "HCC_sampled_train_5.obs.head()"
   ]
  },
  {
   "cell_type": "code",
   "execution_count": null,
   "metadata": {},
   "outputs": [],
   "source": [
    "HCC_sampled_test_5.obs['str_batch'] = 1\n",
    "HCC_sampled_test_5.obs.head()"
   ]
  },
  {
   "cell_type": "code",
   "execution_count": 6,
   "metadata": {},
   "outputs": [
    {
     "name": "stdout",
     "output_type": "stream",
     "text": [
      "No of samples in training set: 2943\n",
      "No of samples in test set: 736\n"
     ]
    }
   ],
   "source": [
    "print( \"No of samples in training set: %s\" % len(HCC_sampled_train_5) )\n",
    "print( \"No of samples in test set: %s\" % len(HCC_sampled_test_5) )"
   ]
  },
  {
   "cell_type": "code",
   "execution_count": 7,
   "metadata": {},
   "outputs": [],
   "source": [
    "# Save the new AnnData object to a .h5ad file\n",
    "sc.write('HCC_sampled_train_5.h5ad', HCC_sampled_train_5)"
   ]
  },
  {
   "cell_type": "code",
   "execution_count": 8,
   "metadata": {},
   "outputs": [],
   "source": [
    "sc.write('HCC_sampled_test_5.h5ad', HCC_sampled_test_5)"
   ]
  }
 ],
 "metadata": {
  "kernelspec": {
   "display_name": "Python 3",
   "language": "python",
   "name": "python3"
  },
  "language_info": {
   "codemirror_mode": {
    "name": "ipython",
    "version": 3
   },
   "file_extension": ".py",
   "mimetype": "text/x-python",
   "name": "python",
   "nbconvert_exporter": "python",
   "pygments_lexer": "ipython3",
   "version": "3.8.18"
  }
 },
 "nbformat": 4,
 "nbformat_minor": 2
}
