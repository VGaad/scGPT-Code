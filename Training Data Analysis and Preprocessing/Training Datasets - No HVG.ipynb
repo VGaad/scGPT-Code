{
 "cells": [
  {
   "cell_type": "code",
   "execution_count": 1,
   "metadata": {},
   "outputs": [],
   "source": [
    "import pandas as pd\n",
    "import scanpy as sc\n",
    "import numpy as np"
   ]
  },
  {
   "cell_type": "code",
   "execution_count": 2,
   "metadata": {},
   "outputs": [
    {
     "name": "stderr",
     "output_type": "stream",
     "text": [
      "c:\\Users\\Public\\anaconda3\\envs\\scgpt\\lib\\site-packages\\anndata\\_core\\anndata.py:121: ImplicitModificationWarning: Transforming to str index.\n",
      "  warnings.warn(\"Transforming to str index.\", ImplicitModificationWarning)\n"
     ]
    },
    {
     "data": {
      "text/plain": [
       "AnnData object with n_obs × n_vars = 73589 × 19852\n",
       "    obs: 'n_genes', 'percent_mito', 'n_counts', 'louvain', 'patient_id', 'patient_tumorsection', 'NormalvsTumor', 'patientno', 'PNC', 'PIC', 'ViralvsNonViral', 'louvain_merge', 'Cell Type'\n",
       "    var: 'gene_ids', 'n_cells', 'gene_name'\n",
       "    uns: 'NormalvsTumor_colors', 'PNC_colors', 'ViralvsNonViral_colors', 'louvain', 'louvain_colors', 'neighbors', 'patientno_colors', 'pca', 'rank_genes_groups'\n",
       "    obsm: 'X_pca', 'X_umap'\n",
       "    obsp: 'connectivities', 'distances'"
      ]
     },
     "execution_count": 2,
     "metadata": {},
     "output_type": "execute_result"
    }
   ],
   "source": [
    "andata = sc.read_h5ad('HCC_Updated.h5ad')\n",
    "andata"
   ]
  },
  {
   "cell_type": "code",
   "execution_count": 3,
   "metadata": {},
   "outputs": [
    {
     "data": {
      "text/plain": [
       "73589"
      ]
     },
     "execution_count": 3,
     "metadata": {},
     "output_type": "execute_result"
    }
   ],
   "source": [
    "andata.obs.__len__()"
   ]
  },
  {
   "cell_type": "code",
   "execution_count": 4,
   "metadata": {},
   "outputs": [
    {
     "data": {
      "text/plain": [
       "19852"
      ]
     },
     "execution_count": 4,
     "metadata": {},
     "output_type": "execute_result"
    }
   ],
   "source": [
    "len(andata.var['gene_name'].unique())"
   ]
  },
  {
   "cell_type": "code",
   "execution_count": 5,
   "metadata": {},
   "outputs": [
    {
     "data": {
      "text/plain": [
       "1907"
      ]
     },
     "execution_count": 5,
     "metadata": {},
     "output_type": "execute_result"
    }
   ],
   "source": [
    "#NO HVG\n",
    "'''\n",
    "sc.pp.highly_variable_genes(andata, min_mean=0.0125, max_mean=3, min_disp=0.5)\n",
    "andata = andata[:, andata.var.highly_variable]\n",
    "len(andata.var['gene_name'].unique())\n",
    "'''"
   ]
  },
  {
   "cell_type": "code",
   "execution_count": 5,
   "metadata": {},
   "outputs": [
    {
     "data": {
      "text/html": [
       "<div>\n",
       "<style scoped>\n",
       "    .dataframe tbody tr th:only-of-type {\n",
       "        vertical-align: middle;\n",
       "    }\n",
       "\n",
       "    .dataframe tbody tr th {\n",
       "        vertical-align: top;\n",
       "    }\n",
       "\n",
       "    .dataframe thead th {\n",
       "        text-align: right;\n",
       "    }\n",
       "</style>\n",
       "<table border=\"1\" class=\"dataframe\">\n",
       "  <thead>\n",
       "    <tr style=\"text-align: right;\">\n",
       "      <th></th>\n",
       "      <th>gene_ids</th>\n",
       "      <th>n_cells</th>\n",
       "      <th>gene_name</th>\n",
       "    </tr>\n",
       "    <tr>\n",
       "      <th>index</th>\n",
       "      <th></th>\n",
       "      <th></th>\n",
       "      <th></th>\n",
       "    </tr>\n",
       "  </thead>\n",
       "  <tbody>\n",
       "    <tr>\n",
       "      <th>RP11-34P13.7</th>\n",
       "      <td>0</td>\n",
       "      <td>59</td>\n",
       "      <td>RP11-34P13.7</td>\n",
       "    </tr>\n",
       "    <tr>\n",
       "      <th>FO538757.2</th>\n",
       "      <td>0</td>\n",
       "      <td>5074</td>\n",
       "      <td>FO538757.2</td>\n",
       "    </tr>\n",
       "    <tr>\n",
       "      <th>AP006222.2</th>\n",
       "      <td>0</td>\n",
       "      <td>1970</td>\n",
       "      <td>AP006222.2</td>\n",
       "    </tr>\n",
       "    <tr>\n",
       "      <th>RP4-669L17.10</th>\n",
       "      <td>0</td>\n",
       "      <td>220</td>\n",
       "      <td>RP4-669L17.10</td>\n",
       "    </tr>\n",
       "    <tr>\n",
       "      <th>RP11-206L10.9</th>\n",
       "      <td>0</td>\n",
       "      <td>1188</td>\n",
       "      <td>RP11-206L10.9</td>\n",
       "    </tr>\n",
       "    <tr>\n",
       "      <th>...</th>\n",
       "      <td>...</td>\n",
       "      <td>...</td>\n",
       "      <td>...</td>\n",
       "    </tr>\n",
       "    <tr>\n",
       "      <th>AC007325.4</th>\n",
       "      <td>0</td>\n",
       "      <td>1528</td>\n",
       "      <td>AC007325.4</td>\n",
       "    </tr>\n",
       "    <tr>\n",
       "      <th>AL354822.1</th>\n",
       "      <td>0</td>\n",
       "      <td>679</td>\n",
       "      <td>AL354822.1</td>\n",
       "    </tr>\n",
       "    <tr>\n",
       "      <th>AC004556.1</th>\n",
       "      <td>0</td>\n",
       "      <td>88</td>\n",
       "      <td>AC004556.1</td>\n",
       "    </tr>\n",
       "    <tr>\n",
       "      <th>AC233755.2</th>\n",
       "      <td>0</td>\n",
       "      <td>36</td>\n",
       "      <td>AC233755.2</td>\n",
       "    </tr>\n",
       "    <tr>\n",
       "      <th>AC240274.1</th>\n",
       "      <td>0</td>\n",
       "      <td>602</td>\n",
       "      <td>AC240274.1</td>\n",
       "    </tr>\n",
       "  </tbody>\n",
       "</table>\n",
       "<p>19852 rows × 3 columns</p>\n",
       "</div>"
      ],
      "text/plain": [
       "               gene_ids  n_cells      gene_name\n",
       "index                                          \n",
       "RP11-34P13.7          0       59   RP11-34P13.7\n",
       "FO538757.2            0     5074     FO538757.2\n",
       "AP006222.2            0     1970     AP006222.2\n",
       "RP4-669L17.10         0      220  RP4-669L17.10\n",
       "RP11-206L10.9         0     1188  RP11-206L10.9\n",
       "...                 ...      ...            ...\n",
       "AC007325.4            0     1528     AC007325.4\n",
       "AL354822.1            0      679     AL354822.1\n",
       "AC004556.1            0       88     AC004556.1\n",
       "AC233755.2            0       36     AC233755.2\n",
       "AC240274.1            0      602     AC240274.1\n",
       "\n",
       "[19852 rows x 3 columns]"
      ]
     },
     "execution_count": 5,
     "metadata": {},
     "output_type": "execute_result"
    }
   ],
   "source": [
    "andata.var"
   ]
  },
  {
   "cell_type": "code",
   "execution_count": 6,
   "metadata": {},
   "outputs": [
    {
     "data": {
      "text/plain": [
       "AnnData object with n_obs × n_vars = 73589 × 19852\n",
       "    obs: 'n_genes', 'percent_mito', 'n_counts', 'louvain', 'patient_id', 'patient_tumorsection', 'NormalvsTumor', 'patientno', 'PNC', 'PIC', 'ViralvsNonViral', 'louvain_merge', 'Cell Type'\n",
       "    var: 'gene_ids', 'n_cells', 'gene_name'\n",
       "    uns: 'NormalvsTumor_colors', 'PNC_colors', 'ViralvsNonViral_colors', 'louvain', 'louvain_colors', 'neighbors', 'patientno_colors', 'pca', 'rank_genes_groups'\n",
       "    obsm: 'X_pca', 'X_umap'\n",
       "    obsp: 'connectivities', 'distances'"
      ]
     },
     "execution_count": 6,
     "metadata": {},
     "output_type": "execute_result"
    }
   ],
   "source": [
    "andata"
   ]
  },
  {
   "cell_type": "code",
   "execution_count": 7,
   "metadata": {},
   "outputs": [
    {
     "data": {
      "text/plain": [
       "AxisArrays with keys: X_pca, X_umap"
      ]
     },
     "execution_count": 7,
     "metadata": {},
     "output_type": "execute_result"
    }
   ],
   "source": [
    "andata.obsm"
   ]
  },
  {
   "cell_type": "markdown",
   "metadata": {},
   "source": [
    "*Random Split (80% Train, 20% Test)*"
   ]
  },
  {
   "cell_type": "code",
   "execution_count": 8,
   "metadata": {},
   "outputs": [],
   "source": [
    "rng = np.random.RandomState(0)\n",
    "from sklearn.model_selection import train_test_split\n",
    "\n",
    "HCC_random_train, HCC_random_test = train_test_split( andata, test_size=0.20, random_state=rng ) "
   ]
  },
  {
   "cell_type": "code",
   "execution_count": 9,
   "metadata": {},
   "outputs": [
    {
     "name": "stdout",
     "output_type": "stream",
     "text": [
      "No of samples in training set: 58871\n",
      "No of samples in test set: 14718\n"
     ]
    }
   ],
   "source": [
    "print( \"No of samples in training set: %s\" % len(HCC_random_train) )\n",
    "print( \"No of samples in test set: %s\" % len(HCC_random_test) )"
   ]
  },
  {
   "cell_type": "code",
   "execution_count": 10,
   "metadata": {},
   "outputs": [
    {
     "name": "stderr",
     "output_type": "stream",
     "text": [
      "C:\\Users\\Vaishnavi Gaad\\AppData\\Local\\Temp\\ipykernel_32100\\4061572555.py:1: ImplicitModificationWarning: Trying to modify attribute `.obs` of view, initializing view as actual.\n",
      "  HCC_random_train.obs['str_batch'] = 0\n"
     ]
    },
    {
     "data": {
      "text/html": [
       "<div>\n",
       "<style scoped>\n",
       "    .dataframe tbody tr th:only-of-type {\n",
       "        vertical-align: middle;\n",
       "    }\n",
       "\n",
       "    .dataframe tbody tr th {\n",
       "        vertical-align: top;\n",
       "    }\n",
       "\n",
       "    .dataframe thead th {\n",
       "        text-align: right;\n",
       "    }\n",
       "</style>\n",
       "<table border=\"1\" class=\"dataframe\">\n",
       "  <thead>\n",
       "    <tr style=\"text-align: right;\">\n",
       "      <th></th>\n",
       "      <th>n_genes</th>\n",
       "      <th>percent_mito</th>\n",
       "      <th>n_counts</th>\n",
       "      <th>louvain</th>\n",
       "      <th>patient_id</th>\n",
       "      <th>patient_tumorsection</th>\n",
       "      <th>NormalvsTumor</th>\n",
       "      <th>patientno</th>\n",
       "      <th>PNC</th>\n",
       "      <th>PIC</th>\n",
       "      <th>ViralvsNonViral</th>\n",
       "      <th>louvain_merge</th>\n",
       "      <th>Cell Type</th>\n",
       "      <th>str_batch</th>\n",
       "    </tr>\n",
       "  </thead>\n",
       "  <tbody>\n",
       "    <tr>\n",
       "      <th>16548</th>\n",
       "      <td>505</td>\n",
       "      <td>0.022158</td>\n",
       "      <td>1038.0</td>\n",
       "      <td>0</td>\n",
       "      <td>16</td>\n",
       "      <td>P3_T5</td>\n",
       "      <td>T</td>\n",
       "      <td>P3</td>\n",
       "      <td>P</td>\n",
       "      <td>P</td>\n",
       "      <td>Negative</td>\n",
       "      <td>0</td>\n",
       "      <td>CD4+ Cells</td>\n",
       "      <td>0</td>\n",
       "    </tr>\n",
       "    <tr>\n",
       "      <th>18705</th>\n",
       "      <td>364</td>\n",
       "      <td>0.017391</td>\n",
       "      <td>920.0</td>\n",
       "      <td>4</td>\n",
       "      <td>17</td>\n",
       "      <td>P4_N</td>\n",
       "      <td>N</td>\n",
       "      <td>P4</td>\n",
       "      <td>N</td>\n",
       "      <td>N</td>\n",
       "      <td>Positive</td>\n",
       "      <td>4</td>\n",
       "      <td>CD8+ Cells</td>\n",
       "      <td>0</td>\n",
       "    </tr>\n",
       "    <tr>\n",
       "      <th>37697</th>\n",
       "      <td>748</td>\n",
       "      <td>0.000480</td>\n",
       "      <td>2085.0</td>\n",
       "      <td>14</td>\n",
       "      <td>28</td>\n",
       "      <td>P7_T1</td>\n",
       "      <td>T</td>\n",
       "      <td>P7</td>\n",
       "      <td>P</td>\n",
       "      <td>P</td>\n",
       "      <td>Positive</td>\n",
       "      <td>14</td>\n",
       "      <td>Hepatocytes</td>\n",
       "      <td>0</td>\n",
       "    </tr>\n",
       "    <tr>\n",
       "      <th>40241</th>\n",
       "      <td>548</td>\n",
       "      <td>0.018234</td>\n",
       "      <td>1042.0</td>\n",
       "      <td>1</td>\n",
       "      <td>29</td>\n",
       "      <td>P7_T2</td>\n",
       "      <td>T</td>\n",
       "      <td>P7</td>\n",
       "      <td>P</td>\n",
       "      <td>P</td>\n",
       "      <td>Positive</td>\n",
       "      <td>1</td>\n",
       "      <td>Nk Cells</td>\n",
       "      <td>0</td>\n",
       "    </tr>\n",
       "    <tr>\n",
       "      <th>59847</th>\n",
       "      <td>351</td>\n",
       "      <td>0.040678</td>\n",
       "      <td>590.0</td>\n",
       "      <td>1</td>\n",
       "      <td>47</td>\n",
       "      <td>P13_N</td>\n",
       "      <td>N</td>\n",
       "      <td>P13</td>\n",
       "      <td>N</td>\n",
       "      <td>N</td>\n",
       "      <td>Negative</td>\n",
       "      <td>1</td>\n",
       "      <td>Nk Cells</td>\n",
       "      <td>0</td>\n",
       "    </tr>\n",
       "  </tbody>\n",
       "</table>\n",
       "</div>"
      ],
      "text/plain": [
       "       n_genes  percent_mito  n_counts louvain  patient_id  \\\n",
       "16548      505      0.022158    1038.0       0          16   \n",
       "18705      364      0.017391     920.0       4          17   \n",
       "37697      748      0.000480    2085.0      14          28   \n",
       "40241      548      0.018234    1042.0       1          29   \n",
       "59847      351      0.040678     590.0       1          47   \n",
       "\n",
       "      patient_tumorsection NormalvsTumor patientno PNC PIC ViralvsNonViral  \\\n",
       "16548                P3_T5             T        P3   P   P        Negative   \n",
       "18705                 P4_N             N        P4   N   N        Positive   \n",
       "37697                P7_T1             T        P7   P   P        Positive   \n",
       "40241                P7_T2             T        P7   P   P        Positive   \n",
       "59847                P13_N             N       P13   N   N        Negative   \n",
       "\n",
       "       louvain_merge    Cell Type  str_batch  \n",
       "16548              0   CD4+ Cells          0  \n",
       "18705              4   CD8+ Cells          0  \n",
       "37697             14  Hepatocytes          0  \n",
       "40241              1     Nk Cells          0  \n",
       "59847              1     Nk Cells          0  "
      ]
     },
     "execution_count": 10,
     "metadata": {},
     "output_type": "execute_result"
    }
   ],
   "source": [
    "HCC_random_train.obs['str_batch'] = 0\n",
    "HCC_random_train.obs.head()"
   ]
  },
  {
   "cell_type": "code",
   "execution_count": 11,
   "metadata": {},
   "outputs": [
    {
     "name": "stderr",
     "output_type": "stream",
     "text": [
      "C:\\Users\\Vaishnavi Gaad\\AppData\\Local\\Temp\\ipykernel_32100\\796004646.py:1: ImplicitModificationWarning: Trying to modify attribute `.obs` of view, initializing view as actual.\n",
      "  HCC_random_test.obs['str_batch'] = 1\n"
     ]
    },
    {
     "data": {
      "text/html": [
       "<div>\n",
       "<style scoped>\n",
       "    .dataframe tbody tr th:only-of-type {\n",
       "        vertical-align: middle;\n",
       "    }\n",
       "\n",
       "    .dataframe tbody tr th {\n",
       "        vertical-align: top;\n",
       "    }\n",
       "\n",
       "    .dataframe thead th {\n",
       "        text-align: right;\n",
       "    }\n",
       "</style>\n",
       "<table border=\"1\" class=\"dataframe\">\n",
       "  <thead>\n",
       "    <tr style=\"text-align: right;\">\n",
       "      <th></th>\n",
       "      <th>n_genes</th>\n",
       "      <th>percent_mito</th>\n",
       "      <th>n_counts</th>\n",
       "      <th>louvain</th>\n",
       "      <th>patient_id</th>\n",
       "      <th>patient_tumorsection</th>\n",
       "      <th>NormalvsTumor</th>\n",
       "      <th>patientno</th>\n",
       "      <th>PNC</th>\n",
       "      <th>PIC</th>\n",
       "      <th>ViralvsNonViral</th>\n",
       "      <th>louvain_merge</th>\n",
       "      <th>Cell Type</th>\n",
       "      <th>str_batch</th>\n",
       "    </tr>\n",
       "  </thead>\n",
       "  <tbody>\n",
       "    <tr>\n",
       "      <th>72055</th>\n",
       "      <td>671</td>\n",
       "      <td>0.021120</td>\n",
       "      <td>2036.0</td>\n",
       "      <td>8</td>\n",
       "      <td>58</td>\n",
       "      <td>P15_T4T5</td>\n",
       "      <td>T</td>\n",
       "      <td>P15</td>\n",
       "      <td>P</td>\n",
       "      <td>P</td>\n",
       "      <td>Negative</td>\n",
       "      <td>8</td>\n",
       "      <td>Myeloid</td>\n",
       "      <td>1</td>\n",
       "    </tr>\n",
       "    <tr>\n",
       "      <th>58920</th>\n",
       "      <td>555</td>\n",
       "      <td>0.019349</td>\n",
       "      <td>1137.0</td>\n",
       "      <td>2</td>\n",
       "      <td>47</td>\n",
       "      <td>P13_N</td>\n",
       "      <td>N</td>\n",
       "      <td>P13</td>\n",
       "      <td>N</td>\n",
       "      <td>N</td>\n",
       "      <td>Negative</td>\n",
       "      <td>2</td>\n",
       "      <td>Endothelial Cells</td>\n",
       "      <td>1</td>\n",
       "    </tr>\n",
       "    <tr>\n",
       "      <th>35506</th>\n",
       "      <td>658</td>\n",
       "      <td>0.019710</td>\n",
       "      <td>1725.0</td>\n",
       "      <td>5</td>\n",
       "      <td>26</td>\n",
       "      <td>P6_T2</td>\n",
       "      <td>T</td>\n",
       "      <td>P6</td>\n",
       "      <td>P</td>\n",
       "      <td>P</td>\n",
       "      <td>Negative</td>\n",
       "      <td>5</td>\n",
       "      <td>CD4+ Cells</td>\n",
       "      <td>1</td>\n",
       "    </tr>\n",
       "    <tr>\n",
       "      <th>16987</th>\n",
       "      <td>507</td>\n",
       "      <td>0.017062</td>\n",
       "      <td>1055.0</td>\n",
       "      <td>4</td>\n",
       "      <td>16</td>\n",
       "      <td>P3_T5</td>\n",
       "      <td>T</td>\n",
       "      <td>P3</td>\n",
       "      <td>P</td>\n",
       "      <td>P</td>\n",
       "      <td>Negative</td>\n",
       "      <td>4</td>\n",
       "      <td>CD8+ Cells</td>\n",
       "      <td>1</td>\n",
       "    </tr>\n",
       "    <tr>\n",
       "      <th>18229</th>\n",
       "      <td>881</td>\n",
       "      <td>0.027952</td>\n",
       "      <td>2075.0</td>\n",
       "      <td>12</td>\n",
       "      <td>17</td>\n",
       "      <td>P4_N</td>\n",
       "      <td>N</td>\n",
       "      <td>P4</td>\n",
       "      <td>N</td>\n",
       "      <td>N</td>\n",
       "      <td>Positive</td>\n",
       "      <td>12</td>\n",
       "      <td>Tregs</td>\n",
       "      <td>1</td>\n",
       "    </tr>\n",
       "  </tbody>\n",
       "</table>\n",
       "</div>"
      ],
      "text/plain": [
       "       n_genes  percent_mito  n_counts louvain  patient_id  \\\n",
       "72055      671      0.021120    2036.0       8          58   \n",
       "58920      555      0.019349    1137.0       2          47   \n",
       "35506      658      0.019710    1725.0       5          26   \n",
       "16987      507      0.017062    1055.0       4          16   \n",
       "18229      881      0.027952    2075.0      12          17   \n",
       "\n",
       "      patient_tumorsection NormalvsTumor patientno PNC PIC ViralvsNonViral  \\\n",
       "72055             P15_T4T5             T       P15   P   P        Negative   \n",
       "58920                P13_N             N       P13   N   N        Negative   \n",
       "35506                P6_T2             T        P6   P   P        Negative   \n",
       "16987                P3_T5             T        P3   P   P        Negative   \n",
       "18229                 P4_N             N        P4   N   N        Positive   \n",
       "\n",
       "       louvain_merge          Cell Type  str_batch  \n",
       "72055              8            Myeloid          1  \n",
       "58920              2  Endothelial Cells          1  \n",
       "35506              5         CD4+ Cells          1  \n",
       "16987              4         CD8+ Cells          1  \n",
       "18229             12              Tregs          1  "
      ]
     },
     "execution_count": 11,
     "metadata": {},
     "output_type": "execute_result"
    }
   ],
   "source": [
    "HCC_random_test.obs['str_batch'] = 1\n",
    "HCC_random_test.obs.head()"
   ]
  },
  {
   "cell_type": "code",
   "execution_count": 12,
   "metadata": {},
   "outputs": [
    {
     "data": {
      "text/plain": [
       "<14718x19852 sparse matrix of type '<class 'numpy.float32'>'\n",
       "\twith 9968203 stored elements in Compressed Sparse Row format>"
      ]
     },
     "execution_count": 12,
     "metadata": {},
     "output_type": "execute_result"
    }
   ],
   "source": [
    "HCC_random_test.X"
   ]
  },
  {
   "cell_type": "code",
   "execution_count": 13,
   "metadata": {},
   "outputs": [
    {
     "name": "stdout",
     "output_type": "stream",
     "text": [
      "  (0, 19840)\t1.7917595\n",
      "  (0, 19838)\t1.609438\n",
      "  (0, 19837)\t1.7917595\n",
      "  (0, 19835)\t1.7917595\n",
      "  (0, 19834)\t2.0794415\n",
      "  (0, 19831)\t1.3862944\n",
      "  (0, 19830)\t1.609438\n",
      "  (0, 19829)\t1.7917595\n",
      "  (0, 19828)\t1.7917595\n",
      "  (0, 19799)\t0.6931472\n",
      "  (0, 19798)\t1.0986123\n",
      "  (0, 19794)\t0.6931472\n",
      "  (0, 19771)\t1.0986123\n",
      "  (0, 19699)\t0.6931472\n",
      "  (0, 19685)\t1.3862944\n",
      "  (0, 19675)\t0.6931472\n",
      "  (0, 19657)\t0.6931472\n",
      "  (0, 19644)\t0.6931472\n",
      "  (0, 19632)\t0.6931472\n",
      "  (0, 19576)\t0.6931472\n",
      "  (0, 19552)\t0.6931472\n",
      "  (0, 19487)\t0.6931472\n",
      "  (0, 19460)\t0.6931472\n",
      "  (0, 19430)\t0.6931472\n",
      "  (0, 19425)\t2.6390574\n",
      "  :\t:\n",
      "  (14717, 1031)\t0.6931472\n",
      "  (14717, 948)\t0.6931472\n",
      "  (14717, 888)\t0.6931472\n",
      "  (14717, 861)\t0.6931472\n",
      "  (14717, 852)\t0.6931472\n",
      "  (14717, 836)\t0.6931472\n",
      "  (14717, 834)\t0.6931472\n",
      "  (14717, 791)\t0.6931472\n",
      "  (14717, 788)\t0.6931472\n",
      "  (14717, 738)\t0.6931472\n",
      "  (14717, 718)\t0.6931472\n",
      "  (14717, 707)\t0.6931472\n",
      "  (14717, 694)\t0.6931472\n",
      "  (14717, 674)\t0.6931472\n",
      "  (14717, 491)\t0.6931472\n",
      "  (14717, 484)\t0.6931472\n",
      "  (14717, 472)\t0.6931472\n",
      "  (14717, 451)\t0.6931472\n",
      "  (14717, 445)\t0.6931472\n",
      "  (14717, 374)\t0.6931472\n",
      "  (14717, 361)\t0.6931472\n",
      "  (14717, 322)\t0.6931472\n",
      "  (14717, 312)\t0.6931472\n",
      "  (14717, 310)\t0.6931472\n",
      "  (14717, 303)\t1.0986123\n"
     ]
    }
   ],
   "source": [
    "print(HCC_random_test.X)"
   ]
  },
  {
   "cell_type": "code",
   "execution_count": 14,
   "metadata": {},
   "outputs": [
    {
     "data": {
      "text/plain": [
       "0.0"
      ]
     },
     "execution_count": 14,
     "metadata": {},
     "output_type": "execute_result"
    }
   ],
   "source": [
    "HCC_random_train.X.min()"
   ]
  },
  {
   "cell_type": "code",
   "execution_count": 15,
   "metadata": {},
   "outputs": [
    {
     "data": {
      "text/plain": [
       "0.0"
      ]
     },
     "execution_count": 15,
     "metadata": {},
     "output_type": "execute_result"
    }
   ],
   "source": [
    "HCC_random_test.X.min()"
   ]
  },
  {
   "cell_type": "code",
   "execution_count": 16,
   "metadata": {},
   "outputs": [
    {
     "data": {
      "text/plain": [
       "19852"
      ]
     },
     "execution_count": 16,
     "metadata": {},
     "output_type": "execute_result"
    }
   ],
   "source": [
    "len(HCC_random_train.var['gene_name'].unique())"
   ]
  },
  {
   "cell_type": "code",
   "execution_count": 17,
   "metadata": {},
   "outputs": [
    {
     "data": {
      "text/plain": [
       "19852"
      ]
     },
     "execution_count": 17,
     "metadata": {},
     "output_type": "execute_result"
    }
   ],
   "source": [
    "len(HCC_random_test.var['gene_name'].unique())"
   ]
  },
  {
   "cell_type": "code",
   "execution_count": 18,
   "metadata": {},
   "outputs": [
    {
     "data": {
      "text/plain": [
       "AxisArrays with keys: X_pca, X_umap"
      ]
     },
     "execution_count": 18,
     "metadata": {},
     "output_type": "execute_result"
    }
   ],
   "source": [
    "HCC_random_train.obsm"
   ]
  },
  {
   "cell_type": "code",
   "execution_count": 19,
   "metadata": {},
   "outputs": [
    {
     "data": {
      "text/plain": [
       "(58871, 2)"
      ]
     },
     "execution_count": 19,
     "metadata": {},
     "output_type": "execute_result"
    }
   ],
   "source": [
    "HCC_random_train.obsm['X_umap'].shape"
   ]
  },
  {
   "cell_type": "code",
   "execution_count": 20,
   "metadata": {},
   "outputs": [
    {
     "data": {
      "text/plain": [
       "array([[  2.23224428,  -4.88038547],\n",
       "       [  1.24797852,  -3.81566829],\n",
       "       [ -5.68364089,   9.94165013],\n",
       "       ...,\n",
       "       [-10.08227602,   5.88093479],\n",
       "       [ -6.57843215,   5.45052412],\n",
       "       [  9.08096618,   4.89513101]])"
      ]
     },
     "execution_count": 20,
     "metadata": {},
     "output_type": "execute_result"
    }
   ],
   "source": [
    "HCC_random_train.obsm['X_umap']"
   ]
  },
  {
   "cell_type": "code",
   "execution_count": 21,
   "metadata": {},
   "outputs": [
    {
     "data": {
      "text/plain": [
       "AxisArrays with keys: X_pca, X_umap"
      ]
     },
     "execution_count": 21,
     "metadata": {},
     "output_type": "execute_result"
    }
   ],
   "source": [
    "HCC_random_test.obsm"
   ]
  },
  {
   "cell_type": "code",
   "execution_count": 22,
   "metadata": {},
   "outputs": [],
   "source": [
    "sc.write('HCC_random_train_No_HVG.h5ad', HCC_random_train)"
   ]
  },
  {
   "cell_type": "code",
   "execution_count": 23,
   "metadata": {},
   "outputs": [],
   "source": [
    "sc.write('HCC_random_test_No_HVG.h5ad', HCC_random_test)"
   ]
  }
 ],
 "metadata": {
  "kernelspec": {
   "display_name": "Python 3",
   "language": "python",
   "name": "python3"
  },
  "language_info": {
   "codemirror_mode": {
    "name": "ipython",
    "version": 3
   },
   "file_extension": ".py",
   "mimetype": "text/x-python",
   "name": "python",
   "nbconvert_exporter": "python",
   "pygments_lexer": "ipython3",
   "version": "3.8.18"
  }
 },
 "nbformat": 4,
 "nbformat_minor": 2
}
